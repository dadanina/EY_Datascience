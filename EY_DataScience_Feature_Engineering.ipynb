{
 "cells": [
  {
   "cell_type": "code",
   "execution_count": 1,
   "metadata": {
    "collapsed": true
   },
   "outputs": [],
   "source": [
    "#import packages\n",
    "import numpy as np\n",
    "import pandas as pd\n",
    "import matplotlib.pyplot as plt\n",
    "from sklearn.model_selection import train_test_split\n",
    "import xgboost as xgb\n",
    "from sklearn import metrics"
   ]
  },
  {
   "cell_type": "code",
   "execution_count": 2,
   "metadata": {
    "collapsed": true
   },
   "outputs": [],
   "source": [
    "#read data\n",
    "data_train=pd.read_csv('data_train\\data_train.csv')\n",
    "data_test=pd.read_csv('data_test\\data_test.csv')\n",
    "data_train.drop(['Unnamed: 0'],axis=1,inplace=True)\n",
    "data_test.drop(['Unnamed: 0'],axis=1,inplace=True)"
   ]
  },
  {
   "cell_type": "code",
   "execution_count": 3,
   "metadata": {},
   "outputs": [
    {
     "data": {
      "text/plain": [
       "((814262, 11), (202937, 11))"
      ]
     },
     "execution_count": 3,
     "metadata": {},
     "output_type": "execute_result"
    }
   ],
   "source": [
    "#transform data\n",
    "x_upper = 3770901.5068\n",
    "x_lower = 3750901.5068\n",
    "y_upper = -19208905.6133 \n",
    "y_lower = -19268905.6133\n",
    "d_x=x_upper-x_lower\n",
    "d_y=y_upper-y_lower\n",
    "def transform_data(data):\n",
    "    df=data.copy()\n",
    "    df['x_entry']=x_lower-df['x_entry']\n",
    "    df['y_entry']=y_lower-df['y_entry']\n",
    "    df['x_exit']=x_lower-df['x_exit']\n",
    "    df['y_exit']=y_lower-df['y_exit']\n",
    "    df['time_entry']=pd.to_datetime(df['time_entry'])\n",
    "    df['time_exit']=pd.to_datetime(df['time_exit'])\n",
    "    return df\n",
    "data_train=transform_data(data_train)\n",
    "data_test =transform_data(data_test)\n",
    "data_train.shape,data_test.shape"
   ]
  },
  {
   "cell_type": "code",
   "execution_count": 4,
   "metadata": {
    "collapsed": true
   },
   "outputs": [],
   "source": [
    "#helper functions\n",
    "def time_diff(x):\n",
    "    t_x=np.array(x)\n",
    "    return (t_x[-1]-t_x[0])/np.timedelta64(1, 'm')\n",
    "def dist_diff(x):\n",
    "    d_x=np.array(x)\n",
    "    return (d_x[-1]-d_x[0])\n",
    "def dist_x_endstart(x):\n",
    "    d15_x=np.array(x)\n",
    "    return d15_x[-1]\n",
    "def is_center(x,d):\n",
    "    if x<=0 and d+x>=0:\n",
    "        return 1\n",
    "    else:\n",
    "        return 0    "
   ]
  },
  {
   "cell_type": "code",
   "execution_count": 5,
   "metadata": {
    "collapsed": true
   },
   "outputs": [],
   "source": [
    "def is_zero_dur(data):\n",
    "    hash_group=data.groupby(['hash'])\n",
    "    endtimedelta=(hash_group['time_exit'].apply(lambda x:np.array(x)[-1])-\n",
    "                  hash_group['time_entry'].apply(lambda x:np.array(x)[-1]))/np.timedelta64(1, 'm') #last time duration\n",
    "    p_time_duration=endtimedelta.to_frame(name='p_time_dur')\n",
    "    data=pd.merge(data,p_time_duration,left_on='hash',right_index=True,how='inner')\n",
    "    data_z=data[data.p_time_dur==0]\n",
    "    data_nz=data[data.p_time_dur!=0]\n",
    "    return data_z,data_nz"
   ]
  },
  {
   "cell_type": "code",
   "execution_count": 167,
   "metadata": {},
   "outputs": [
    {
     "data": {
      "text/plain": [
       "((391381, 12), (422881, 12), (98349, 12), (104588, 12))"
      ]
     },
     "execution_count": 167,
     "metadata": {},
     "output_type": "execute_result"
    }
   ],
   "source": [
    "data_train_z,data_train_nz=is_zero_dur(data_train)\n",
    "data_test_z,data_test_nz=is_zero_dur(data_test)\n",
    "data_train_z.shape,data_train_nz.shape,data_test_z.shape,data_test_nz.shape"
   ]
  },
  {
   "cell_type": "markdown",
   "metadata": {},
   "source": [
    "#  时间间隔为0的预测"
   ]
  },
  {
   "cell_type": "code",
   "execution_count": 168,
   "metadata": {
    "collapsed": true
   },
   "outputs": [],
   "source": [
    "def zero_dur_prediction(data):\n",
    "    df=data.copy()\n",
    "    hash_group=df.groupby(['hash'])\n",
    "    endstart_x=hash_group['x_entry'].apply(lambda x:dist_x_endstart(x)) #start location x\n",
    "    endstart_y=hash_group['y_entry'].apply(lambda x:dist_x_endstart(x)) #start location y\n",
    "    end_x=endstart_x.to_frame(name='end_x')\n",
    "    end_y=endstart_y.to_frame(name='end_y')\n",
    "    df=pd.merge(df,end_x,left_on='hash',right_index=True,how='inner')\n",
    "    df=pd.merge(df,end_y,left_on='hash',right_index=True,how='inner')\n",
    "    df.loc[:,'is_in_center_x']=df.loc[:,'end_x'].apply(lambda x:is_center(x,d_x))\n",
    "    df.loc[:,'is_in_center_y']=df.loc[:,'end_y'].apply(lambda y:is_center(y,d_y))\n",
    "    df['label']= np.array(df['is_in_center_x']) & np.array(df['is_in_center_y'])\n",
    "    return df"
   ]
  },
  {
   "cell_type": "code",
   "execution_count": 169,
   "metadata": {
    "collapsed": true
   },
   "outputs": [],
   "source": [
    "dftrain_z=zero_dur_prediction(data_train_z)\n",
    "dftest_z=zero_dur_prediction(data_test_z)"
   ]
  },
  {
   "cell_type": "code",
   "execution_count": 170,
   "metadata": {
    "collapsed": true
   },
   "outputs": [],
   "source": [
    "dframe_test_z=dftest_z.drop(['trajectory_id','time_entry',\n",
    "                  'time_exit','vmax','vmin','vmean','x_entry','y_entry',\n",
    "                  'x_exit','y_exit'],axis=1)\n",
    "dframe_test_z=dframe_test_z.drop_duplicates()\n",
    "y_pred_z=dframe_test_z['label']\n",
    "gb_z=dftest_z.groupby(['hash'])\n",
    "last_id_z=gb_z['trajectory_id'].apply(lambda x:np.array(x)[-1])\n",
    "result_z=pd.Series(y_pred_z.values,index=last_id_z.values)\n",
    "result_z.to_frame(name='center_city')\n",
    "result_z.to_csv('result_9_1.csv')"
   ]
  },
  {
   "cell_type": "markdown",
   "metadata": {},
   "source": [
    "# 时间间隔非0的预测"
   ]
  },
  {
   "cell_type": "code",
   "execution_count": 171,
   "metadata": {
    "collapsed": true
   },
   "outputs": [],
   "source": [
    "def feature_engineering(data):\n",
    "    df=data.copy()\n",
    "    #groupby each tarjectory\n",
    "    hash_group=df.groupby(['hash'])\n",
    "    difftime=hash_group['time_entry'].apply(lambda x:time_diff(x)) #time duration\n",
    "    dist_x=hash_group['x_entry'].apply(lambda x:dist_diff(x)) #distance of direction x\n",
    "    dist_y=hash_group['y_entry'].apply(lambda y:dist_diff(y)) #distance of direction y\n",
    "    endstart_x=hash_group['x_entry'].apply(lambda x:dist_x_endstart(x)) #start location x\n",
    "    endstart_y=hash_group['y_entry'].apply(lambda x:dist_x_endstart(x)) #start location y\n",
    "    endtimedelta=(hash_group['time_exit'].apply(lambda x:np.array(x)[-1])-\n",
    "               hash_group['time_entry'].apply(lambda x:np.array(x)[-1]))/np.timedelta64(1, 'm') #last time duration\n",
    "    start_time_hour=hash_group['time_entry'].apply(lambda x:np.array(x.dt.hour)[0])\n",
    "    id_count=hash_group['trajectory_id'].count()\n",
    "    \n",
    "    feat=[difftime,dist_x,dist_y,endstart_x,\n",
    "          endstart_y,endtimedelta,start_time_hour,id_count]\n",
    "    for i,x in enumerate(feat):\n",
    "        feats=x.to_frame(name='feature_'+str(i+1))\n",
    "        df=pd.merge(df,feats,left_on='hash',right_index=True,how='inner')\n",
    "    \n",
    "    df['vel_x']=df['feature_2']/df['feature_1']\n",
    "    df['vel_y']=df['feature_3']/df['feature_1']\n",
    "    \n",
    "    df_1=df[df['feature_8']==1]\n",
    "    df_2=df[df['feature_8']>1]\n",
    "    df_1.loc[:,'pre_v1_x']=df_1.loc[:,'vel_x']\n",
    "    df_1.loc[:,'pre_v1_y']=df_1.loc[:,'vel_y'] \n",
    "    \n",
    "    h_gb=df_2.groupby(['hash'])\n",
    "    now1t=h_gb['time_entry'].apply(lambda x:np.array(x)[-1])\n",
    "    pre1t=h_gb['time_exit'].apply(lambda x:np.array(x)[-2])\n",
    "    now1x=h_gb['x_entry'].apply(lambda x:np.array(x)[-1])\n",
    "    pre1x=h_gb['x_exit'].apply(lambda x:np.array(x)[-2])\n",
    "    now1y=h_gb['y_entry'].apply(lambda x:np.array(x)[-1])\n",
    "    pre1y=h_gb['y_exit'].apply(lambda x:np.array(x)[-2])\n",
    "    delta1t= (now1t-pre1t)/np.timedelta64(1, 'm')\n",
    "    pre_distx=now1x-pre1x\n",
    "    pre_disty=now1y-pre1y\n",
    "    pre_vel_x=pre_distx/delta1t\n",
    "    pre_vel_y=pre_disty/delta1t\n",
    "    df2_feat1=pre_vel_x.to_frame(name='pre_v1_x')\n",
    "    df2_feat2=pre_vel_y.to_frame(name='pre_v1_y')\n",
    "    df_2=pd.merge(df_2,df2_feat1,left_on='hash',right_index=True,how='inner')\n",
    "    df_2=pd.merge(df_2,df2_feat2,left_on='hash',right_index=True,how='inner')\n",
    "    \n",
    "    df=df_1.append(df_2)\n",
    "    \n",
    "    df.loc[:,'is_in_center_x']=df.loc[:,'feature_4'].apply(lambda x:is_center(x,d_x))\n",
    "    df.loc[:,'is_in_center_y']=df.loc[:,'feature_5'].apply(lambda y:is_center(y,d_y))\n",
    "    return df"
   ]
  },
  {
   "cell_type": "code",
   "execution_count": 172,
   "metadata": {
    "scrolled": true
   },
   "outputs": [
    {
     "name": "stderr",
     "output_type": "stream",
     "text": [
      "C:\\Users\\Liu Qiong\\Anaconda3\\lib\\site-packages\\pandas\\core\\indexing.py:337: SettingWithCopyWarning: \n",
      "A value is trying to be set on a copy of a slice from a DataFrame.\n",
      "Try using .loc[row_indexer,col_indexer] = value instead\n",
      "\n",
      "See the caveats in the documentation: http://pandas.pydata.org/pandas-docs/stable/indexing.html#indexing-view-versus-copy\n",
      "  self.obj[key] = _infer_fill_value(value)\n",
      "C:\\Users\\Liu Qiong\\Anaconda3\\lib\\site-packages\\pandas\\core\\indexing.py:517: SettingWithCopyWarning: \n",
      "A value is trying to be set on a copy of a slice from a DataFrame.\n",
      "Try using .loc[row_indexer,col_indexer] = value instead\n",
      "\n",
      "See the caveats in the documentation: http://pandas.pydata.org/pandas-docs/stable/indexing.html#indexing-view-versus-copy\n",
      "  self.obj[item] = s\n"
     ]
    }
   ],
   "source": [
    "df_train_nz=feature_engineering(data_train_nz)\n",
    "df_test_nz =feature_engineering(data_test_nz)"
   ]
  },
  {
   "cell_type": "code",
   "execution_count": 173,
   "metadata": {
    "scrolled": true
   },
   "outputs": [
    {
     "data": {
      "text/plain": [
       "Index(['hash', 'trajectory_id', 'time_entry', 'time_exit', 'vmax', 'vmin',\n",
       "       'vmean', 'x_entry', 'y_entry', 'x_exit', 'y_exit', 'p_time_dur',\n",
       "       'feature_1', 'feature_2', 'feature_3', 'feature_4', 'feature_5',\n",
       "       'feature_6', 'feature_7', 'feature_8', 'vel_x', 'vel_y', 'pre_v1_x',\n",
       "       'pre_v1_y', 'is_in_center_x', 'is_in_center_y'],\n",
       "      dtype='object')"
      ]
     },
     "execution_count": 173,
     "metadata": {},
     "output_type": "execute_result"
    }
   ],
   "source": [
    "df_train_nz.columns"
   ]
  },
  {
   "cell_type": "code",
   "execution_count": 15,
   "metadata": {},
   "outputs": [
    {
     "data": {
      "text/html": [
       "<div>\n",
       "<style>\n",
       "    .dataframe thead tr:only-child th {\n",
       "        text-align: right;\n",
       "    }\n",
       "\n",
       "    .dataframe thead th {\n",
       "        text-align: left;\n",
       "    }\n",
       "\n",
       "    .dataframe tbody tr th {\n",
       "        vertical-align: top;\n",
       "    }\n",
       "</style>\n",
       "<table border=\"1\" class=\"dataframe\">\n",
       "  <thead>\n",
       "    <tr style=\"text-align: right;\">\n",
       "      <th></th>\n",
       "      <th>hash</th>\n",
       "      <th>trajectory_id</th>\n",
       "      <th>time_entry</th>\n",
       "      <th>time_exit</th>\n",
       "      <th>vmax</th>\n",
       "      <th>vmin</th>\n",
       "      <th>vmean</th>\n",
       "      <th>x_entry</th>\n",
       "      <th>y_entry</th>\n",
       "      <th>x_exit</th>\n",
       "      <th>...</th>\n",
       "      <th>feature_8</th>\n",
       "      <th>vel_x</th>\n",
       "      <th>vel_y</th>\n",
       "      <th>is_in_center_x</th>\n",
       "      <th>is_in_center_y</th>\n",
       "      <th>exit_x</th>\n",
       "      <th>exit_y</th>\n",
       "      <th>label_x</th>\n",
       "      <th>label_y</th>\n",
       "      <th>label</th>\n",
       "    </tr>\n",
       "  </thead>\n",
       "  <tbody>\n",
       "    <tr>\n",
       "      <th>0</th>\n",
       "      <td>0000a8602cf2def930488dee7cdad104_1</td>\n",
       "      <td>traj_0000a8602cf2def930488dee7cdad104_1_0</td>\n",
       "      <td>2019-04-11 07:04:31</td>\n",
       "      <td>2019-04-11 07:08:32</td>\n",
       "      <td>NaN</td>\n",
       "      <td>NaN</td>\n",
       "      <td>NaN</td>\n",
       "      <td>-112.262606</td>\n",
       "      <td>-174924.969304</td>\n",
       "      <td>575.691847</td>\n",
       "      <td>...</td>\n",
       "      <td>6</td>\n",
       "      <td>12.696943</td>\n",
       "      <td>392.998333</td>\n",
       "      <td>0</td>\n",
       "      <td>0</td>\n",
       "      <td>6116.062904</td>\n",
       "      <td>12572.734471</td>\n",
       "      <td>0</td>\n",
       "      <td>0</td>\n",
       "      <td>0</td>\n",
       "    </tr>\n",
       "    <tr>\n",
       "      <th>1</th>\n",
       "      <td>0000a8602cf2def930488dee7cdad104_1</td>\n",
       "      <td>traj_0000a8602cf2def930488dee7cdad104_1_1</td>\n",
       "      <td>2019-04-11 07:20:34</td>\n",
       "      <td>2019-04-11 07:25:42</td>\n",
       "      <td>NaN</td>\n",
       "      <td>NaN</td>\n",
       "      <td>NaN</td>\n",
       "      <td>6964.317424</td>\n",
       "      <td>53561.934028</td>\n",
       "      <td>5926.819770</td>\n",
       "      <td>...</td>\n",
       "      <td>6</td>\n",
       "      <td>12.696943</td>\n",
       "      <td>392.998333</td>\n",
       "      <td>0</td>\n",
       "      <td>0</td>\n",
       "      <td>6116.062904</td>\n",
       "      <td>12572.734471</td>\n",
       "      <td>0</td>\n",
       "      <td>0</td>\n",
       "      <td>0</td>\n",
       "    </tr>\n",
       "    <tr>\n",
       "      <th>2</th>\n",
       "      <td>0000a8602cf2def930488dee7cdad104_1</td>\n",
       "      <td>traj_0000a8602cf2def930488dee7cdad104_1_2</td>\n",
       "      <td>2019-04-11 07:53:32</td>\n",
       "      <td>2019-04-11 08:03:25</td>\n",
       "      <td>NaN</td>\n",
       "      <td>NaN</td>\n",
       "      <td>NaN</td>\n",
       "      <td>6033.686481</td>\n",
       "      <td>24659.310214</td>\n",
       "      <td>6086.006642</td>\n",
       "      <td>...</td>\n",
       "      <td>6</td>\n",
       "      <td>12.696943</td>\n",
       "      <td>392.998333</td>\n",
       "      <td>0</td>\n",
       "      <td>0</td>\n",
       "      <td>6116.062904</td>\n",
       "      <td>12572.734471</td>\n",
       "      <td>0</td>\n",
       "      <td>0</td>\n",
       "      <td>0</td>\n",
       "    </tr>\n",
       "    <tr>\n",
       "      <th>3</th>\n",
       "      <td>0000a8602cf2def930488dee7cdad104_1</td>\n",
       "      <td>traj_0000a8602cf2def930488dee7cdad104_1_3</td>\n",
       "      <td>2019-04-11 08:17:50</td>\n",
       "      <td>2019-04-11 08:37:23</td>\n",
       "      <td>NaN</td>\n",
       "      <td>NaN</td>\n",
       "      <td>NaN</td>\n",
       "      <td>6021.441337</td>\n",
       "      <td>23384.151345</td>\n",
       "      <td>6092.685811</td>\n",
       "      <td>...</td>\n",
       "      <td>6</td>\n",
       "      <td>12.696943</td>\n",
       "      <td>392.998333</td>\n",
       "      <td>0</td>\n",
       "      <td>0</td>\n",
       "      <td>6116.062904</td>\n",
       "      <td>12572.734471</td>\n",
       "      <td>0</td>\n",
       "      <td>0</td>\n",
       "      <td>0</td>\n",
       "    </tr>\n",
       "    <tr>\n",
       "      <th>4</th>\n",
       "      <td>0000a8602cf2def930488dee7cdad104_1</td>\n",
       "      <td>traj_0000a8602cf2def930488dee7cdad104_1_4</td>\n",
       "      <td>2019-04-11 14:38:09</td>\n",
       "      <td>2019-04-11 14:38:09</td>\n",
       "      <td>NaN</td>\n",
       "      <td>NaN</td>\n",
       "      <td>NaN</td>\n",
       "      <td>5992.498269</td>\n",
       "      <td>16679.383523</td>\n",
       "      <td>5992.498269</td>\n",
       "      <td>...</td>\n",
       "      <td>6</td>\n",
       "      <td>12.696943</td>\n",
       "      <td>392.998333</td>\n",
       "      <td>0</td>\n",
       "      <td>0</td>\n",
       "      <td>6116.062904</td>\n",
       "      <td>12572.734471</td>\n",
       "      <td>0</td>\n",
       "      <td>0</td>\n",
       "      <td>0</td>\n",
       "    </tr>\n",
       "  </tbody>\n",
       "</table>\n",
       "<p>5 rows × 29 columns</p>\n",
       "</div>"
      ],
      "text/plain": [
       "                                 hash  \\\n",
       "0  0000a8602cf2def930488dee7cdad104_1   \n",
       "1  0000a8602cf2def930488dee7cdad104_1   \n",
       "2  0000a8602cf2def930488dee7cdad104_1   \n",
       "3  0000a8602cf2def930488dee7cdad104_1   \n",
       "4  0000a8602cf2def930488dee7cdad104_1   \n",
       "\n",
       "                               trajectory_id          time_entry  \\\n",
       "0  traj_0000a8602cf2def930488dee7cdad104_1_0 2019-04-11 07:04:31   \n",
       "1  traj_0000a8602cf2def930488dee7cdad104_1_1 2019-04-11 07:20:34   \n",
       "2  traj_0000a8602cf2def930488dee7cdad104_1_2 2019-04-11 07:53:32   \n",
       "3  traj_0000a8602cf2def930488dee7cdad104_1_3 2019-04-11 08:17:50   \n",
       "4  traj_0000a8602cf2def930488dee7cdad104_1_4 2019-04-11 14:38:09   \n",
       "\n",
       "            time_exit  vmax  vmin  vmean      x_entry        y_entry  \\\n",
       "0 2019-04-11 07:08:32   NaN   NaN    NaN  -112.262606 -174924.969304   \n",
       "1 2019-04-11 07:25:42   NaN   NaN    NaN  6964.317424   53561.934028   \n",
       "2 2019-04-11 08:03:25   NaN   NaN    NaN  6033.686481   24659.310214   \n",
       "3 2019-04-11 08:37:23   NaN   NaN    NaN  6021.441337   23384.151345   \n",
       "4 2019-04-11 14:38:09   NaN   NaN    NaN  5992.498269   16679.383523   \n",
       "\n",
       "        x_exit  ...    feature_8      vel_x       vel_y  is_in_center_x  \\\n",
       "0   575.691847  ...            6  12.696943  392.998333               0   \n",
       "1  5926.819770  ...            6  12.696943  392.998333               0   \n",
       "2  6086.006642  ...            6  12.696943  392.998333               0   \n",
       "3  6092.685811  ...            6  12.696943  392.998333               0   \n",
       "4  5992.498269  ...            6  12.696943  392.998333               0   \n",
       "\n",
       "   is_in_center_y       exit_x        exit_y  label_x  label_y  label  \n",
       "0               0  6116.062904  12572.734471        0        0      0  \n",
       "1               0  6116.062904  12572.734471        0        0      0  \n",
       "2               0  6116.062904  12572.734471        0        0      0  \n",
       "3               0  6116.062904  12572.734471        0        0      0  \n",
       "4               0  6116.062904  12572.734471        0        0      0  \n",
       "\n",
       "[5 rows x 29 columns]"
      ]
     },
     "execution_count": 15,
     "metadata": {},
     "output_type": "execute_result"
    }
   ],
   "source": [
    "#df_test.sort_index(inplace=True)\n",
    "df_train_nz.head()"
   ]
  },
  {
   "cell_type": "code",
   "execution_count": 174,
   "metadata": {},
   "outputs": [],
   "source": [
    "#train_dataset label\n",
    "hash_group=df_train_nz.groupby(['hash'])\n",
    "endexit_x=hash_group['x_exit'].apply(lambda x:dist_x_endstart(x))\n",
    "endexit_y=hash_group['y_exit'].apply(lambda x:dist_x_endstart(x))\n",
    "exit_x=endexit_x.to_frame(name='exit_x')\n",
    "exit_y=endexit_y.to_frame(name='exit_y')\n",
    "df_train_nz=pd.merge(df_train_nz,exit_x,left_on='hash',right_index=True,how='inner')\n",
    "df_train_nz=pd.merge(df_train_nz,exit_y,left_on='hash',right_index=True,how='inner')\n",
    "df_train_nz['label_x']=df_train_nz.loc[:,'exit_x'].apply(lambda x:is_center(x,d_x))\n",
    "df_train_nz['label_y']=df_train_nz.loc[:,'exit_y'].apply(lambda y:is_center(y,d_y))\n",
    "df_train_nz['label']= np.array(df_train_nz['label_x']) & np.array(df_train_nz['label_y'])"
   ]
  },
  {
   "cell_type": "code",
   "execution_count": 175,
   "metadata": {
    "collapsed": true
   },
   "outputs": [],
   "source": [
    "def generate_dataset(data):\n",
    "    df=data.drop(['trajectory_id','time_entry',\n",
    "                  'time_exit','vmax','vmin','vmean','x_entry','y_entry','p_time_dur',\n",
    "                  'x_exit','y_exit'],axis=1)\n",
    "    df=df.drop_duplicates()\n",
    "    return df"
   ]
  },
  {
   "cell_type": "code",
   "execution_count": 176,
   "metadata": {},
   "outputs": [],
   "source": [
    "dframe_train_nz=generate_dataset(df_train_nz)\n",
    "dframe_test_nz=generate_dataset(df_test_nz)"
   ]
  },
  {
   "cell_type": "code",
   "execution_count": 59,
   "metadata": {},
   "outputs": [
    {
     "data": {
      "text/plain": [
       "((67065, 20), (16674, 15))"
      ]
     },
     "execution_count": 59,
     "metadata": {},
     "output_type": "execute_result"
    }
   ],
   "source": [
    "dframe_train_nz.shape,dframe_test_nz.shape"
   ]
  },
  {
   "cell_type": "code",
   "execution_count": 60,
   "metadata": {},
   "outputs": [
    {
     "data": {
      "text/plain": [
       "Index(['hash', 'feature_1', 'feature_2', 'feature_3', 'feature_4', 'feature_5',\n",
       "       'feature_6', 'feature_7', 'feature_8', 'vel_x', 'vel_y', 'pre_v1_x',\n",
       "       'pre_v1_y', 'is_in_center_x', 'is_in_center_y', 'exit_x', 'exit_y',\n",
       "       'label_x', 'label_y', 'label'],\n",
       "      dtype='object')"
      ]
     },
     "execution_count": 60,
     "metadata": {},
     "output_type": "execute_result"
    }
   ],
   "source": [
    "dframe_train_nz.columns"
   ]
  },
  {
   "cell_type": "code",
   "execution_count": 61,
   "metadata": {},
   "outputs": [
    {
     "data": {
      "text/plain": [
       "Index(['hash', 'feature_1', 'feature_2', 'feature_3', 'feature_4', 'feature_5',\n",
       "       'feature_6', 'feature_7', 'feature_8', 'vel_x', 'vel_y', 'pre_v1_x',\n",
       "       'pre_v1_y', 'is_in_center_x', 'is_in_center_y'],\n",
       "      dtype='object')"
      ]
     },
     "execution_count": 61,
     "metadata": {},
     "output_type": "execute_result"
    }
   ],
   "source": [
    "dframe_test_nz.columns"
   ]
  },
  {
   "cell_type": "code",
   "execution_count": 192,
   "metadata": {},
   "outputs": [],
   "source": [
    "X=dframe_train_nz[['feature_1', 'feature_2', 'feature_3', 'feature_4', 'feature_5',\n",
    "       'feature_6', \n",
    "        'feature_7', \n",
    "        'feature_8', \n",
    "        #'vel_x', 'vel_y',\n",
    "       'pre_v1_x','pre_v1_y'\n",
    "       #'is_in_center_x', 'is_in_center_y'\n",
    "                  ]]\n",
    "y=dframe_train_nz['label']\n",
    "X_t=dframe_test_nz[['feature_1', 'feature_2', 'feature_3', 'feature_4', 'feature_5',\n",
    "       'feature_6', \n",
    "        'feature_7', \n",
    "        'feature_8', \n",
    "        #'vel_x', 'vel_y', \n",
    "       'pre_v1_x','pre_v1_y'\n",
    "       #'is_in_center_x', 'is_in_center_y'\n",
    "                   ]]"
   ]
  },
  {
   "cell_type": "code",
   "execution_count": 193,
   "metadata": {
    "collapsed": true
   },
   "outputs": [],
   "source": [
    "# split dataset into two\n",
    "X_train,X_test,y_train,y_test=train_test_split(X,y,test_size=0.25,random_state=444)"
   ]
  },
  {
   "cell_type": "code",
   "execution_count": 179,
   "metadata": {},
   "outputs": [
    {
     "data": {
      "text/plain": [
       "((50298, 14), (16767, 14), (50298,), (16767,))"
      ]
     },
     "execution_count": 179,
     "metadata": {},
     "output_type": "execute_result"
    }
   ],
   "source": [
    "X_train.shape,X_test.shape,y_train.shape,y_test.shape"
   ]
  },
  {
   "cell_type": "code",
   "execution_count": 197,
   "metadata": {
    "scrolled": true
   },
   "outputs": [
    {
     "name": "stdout",
     "output_type": "stream",
     "text": [
      "[0]\tvalidation_0-error:0.132701\n",
      "[1]\tvalidation_0-error:0.131389\n",
      "[2]\tvalidation_0-error:0.129361\n",
      "[3]\tvalidation_0-error:0.127333\n",
      "[4]\tvalidation_0-error:0.127811\n",
      "[5]\tvalidation_0-error:0.126916\n",
      "[6]\tvalidation_0-error:0.127095\n",
      "[7]\tvalidation_0-error:0.126618\n",
      "[8]\tvalidation_0-error:0.125485\n",
      "[9]\tvalidation_0-error:0.125127\n",
      "[10]\tvalidation_0-error:0.124709\n",
      "[11]\tvalidation_0-error:0.124411\n",
      "[12]\tvalidation_0-error:0.123874\n",
      "[13]\tvalidation_0-error:0.123576\n",
      "[14]\tvalidation_0-error:0.122443\n",
      "[15]\tvalidation_0-error:0.122204\n",
      "[16]\tvalidation_0-error:0.122503\n",
      "[17]\tvalidation_0-error:0.121966\n",
      "[18]\tvalidation_0-error:0.121727\n",
      "[19]\tvalidation_0-error:0.121429\n",
      "[20]\tvalidation_0-error:0.121906\n",
      "[21]\tvalidation_0-error:0.122562\n",
      "[22]\tvalidation_0-error:0.121727\n",
      "[23]\tvalidation_0-error:0.121727\n",
      "[24]\tvalidation_0-error:0.12125\n",
      "[25]\tvalidation_0-error:0.121012\n",
      "[26]\tvalidation_0-error:0.120534\n",
      "[27]\tvalidation_0-error:0.120594\n",
      "[28]\tvalidation_0-error:0.120296\n",
      "[29]\tvalidation_0-error:0.120415\n",
      "[30]\tvalidation_0-error:0.120534\n",
      "[31]\tvalidation_0-error:0.120594\n",
      "[32]\tvalidation_0-error:0.120475\n",
      "[33]\tvalidation_0-error:0.120057\n",
      "[34]\tvalidation_0-error:0.120177\n",
      "[35]\tvalidation_0-error:0.120833\n",
      "[36]\tvalidation_0-error:0.119998\n",
      "[37]\tvalidation_0-error:0.120415\n",
      "[38]\tvalidation_0-error:0.120534\n",
      "[39]\tvalidation_0-error:0.120475\n",
      "[40]\tvalidation_0-error:0.120475\n",
      "[41]\tvalidation_0-error:0.120475\n",
      "[42]\tvalidation_0-error:0.120415\n",
      "[43]\tvalidation_0-error:0.120296\n",
      "[44]\tvalidation_0-error:0.120057\n",
      "[45]\tvalidation_0-error:0.120415\n",
      "[46]\tvalidation_0-error:0.120713\n",
      "[47]\tvalidation_0-error:0.120654\n",
      "[48]\tvalidation_0-error:0.121071\n",
      "[49]\tvalidation_0-error:0.121071\n",
      "[50]\tvalidation_0-error:0.120952\n",
      "[51]\tvalidation_0-error:0.120952\n",
      "[52]\tvalidation_0-error:0.120952\n",
      "[53]\tvalidation_0-error:0.120833\n",
      "[54]\tvalidation_0-error:0.120773\n",
      "[55]\tvalidation_0-error:0.12125\n",
      "[56]\tvalidation_0-error:0.121071\n",
      "[57]\tvalidation_0-error:0.120475\n",
      "[58]\tvalidation_0-error:0.119998\n",
      "[59]\tvalidation_0-error:0.120117\n",
      "[60]\tvalidation_0-error:0.120117\n",
      "[61]\tvalidation_0-error:0.120117\n",
      "[62]\tvalidation_0-error:0.119759\n",
      "[63]\tvalidation_0-error:0.120117\n",
      "[64]\tvalidation_0-error:0.120057\n",
      "[65]\tvalidation_0-error:0.119998\n",
      "[66]\tvalidation_0-error:0.119998\n",
      "[67]\tvalidation_0-error:0.119938\n",
      "[68]\tvalidation_0-error:0.119878\n",
      "[69]\tvalidation_0-error:0.119819\n",
      "[70]\tvalidation_0-error:0.119938\n",
      "[71]\tvalidation_0-error:0.119998\n",
      "[72]\tvalidation_0-error:0.120057\n",
      "[73]\tvalidation_0-error:0.120057\n",
      "[74]\tvalidation_0-error:0.119819\n",
      "[75]\tvalidation_0-error:0.120117\n",
      "[76]\tvalidation_0-error:0.119998\n",
      "[77]\tvalidation_0-error:0.120534\n",
      "[78]\tvalidation_0-error:0.120654\n",
      "[79]\tvalidation_0-error:0.120355\n",
      "[80]\tvalidation_0-error:0.120355\n",
      "[81]\tvalidation_0-error:0.120117\n",
      "[82]\tvalidation_0-error:0.119819\n",
      "[83]\tvalidation_0-error:0.119759\n",
      "[84]\tvalidation_0-error:0.120057\n",
      "[85]\tvalidation_0-error:0.120057\n",
      "[86]\tvalidation_0-error:0.119819\n",
      "[87]\tvalidation_0-error:0.119819\n",
      "[88]\tvalidation_0-error:0.119819\n",
      "[89]\tvalidation_0-error:0.119938\n",
      "[90]\tvalidation_0-error:0.120296\n",
      "[91]\tvalidation_0-error:0.120296\n",
      "[92]\tvalidation_0-error:0.120177\n",
      "[93]\tvalidation_0-error:0.119998\n",
      "[94]\tvalidation_0-error:0.119759\n",
      "[95]\tvalidation_0-error:0.119819\n",
      "[96]\tvalidation_0-error:0.119819\n",
      "[97]\tvalidation_0-error:0.119819\n",
      "[98]\tvalidation_0-error:0.119819\n",
      "[99]\tvalidation_0-error:0.119759\n"
     ]
    },
    {
     "data": {
      "text/plain": [
       "XGBClassifier(base_score=0.5, booster='gbtree', colsample_bylevel=1,\n",
       "       colsample_bytree=1, early_stopping_rounds=3, gamma=0.1,\n",
       "       learning_rate=0.2, max_delta_step=0, max_depth=8,\n",
       "       min_child_weight=1, missing=None, n_estimators=100, n_jobs=1,\n",
       "       nthread=None, objective='binary:logistic', random_state=0,\n",
       "       reg_alpha=0, reg_lambda=1, scale_pos_weight=1, seed=None,\n",
       "       silent=True, subsample=1)"
      ]
     },
     "execution_count": 197,
     "metadata": {},
     "output_type": "execute_result"
    }
   ],
   "source": [
    "model1=xgb.XGBClassifier(n_estimators=100,\n",
    "                         max_depth=8,\n",
    "                         learning_rate=0.2,\n",
    "                         gamma=0.1,\n",
    "                         early_stopping_rounds=3)\n",
    "model1.fit(X_train,y_train,eval_metric='error',eval_set=[(X_test,y_test)],verbose=True)"
   ]
  },
  {
   "cell_type": "code",
   "execution_count": 181,
   "metadata": {},
   "outputs": [
    {
     "data": {
      "image/png": "[encoded data removed]",
      "text/plain": [
       "<Figure size 432x288 with 1 Axes>"
      ]
     },
     "metadata": {},
     "output_type": "display_data"
    }
   ],
   "source": [
    "xgb.plot_importance(model1)\n",
    "plt.show()"
   ]
  },
  {
   "cell_type": "code",
   "execution_count": 198,
   "metadata": {},
   "outputs": [
    {
     "data": {
      "text/plain": [
       "0.88024094948410569"
      ]
     },
     "execution_count": 198,
     "metadata": {},
     "output_type": "execute_result"
    }
   ],
   "source": [
    "y_pred=model1.predict(X_test)\n",
    "from sklearn import metrics\n",
    "accuracy_rate=metrics.accuracy_score(y_test,y_pred)\n",
    "accuracy_rate"
   ]
  },
  {
   "cell_type": "code",
   "execution_count": 158,
   "metadata": {
    "collapsed": true
   },
   "outputs": [],
   "source": [
    "gb=data_test_nz.groupby(['hash'])\n",
    "last_id=gb['trajectory_id'].apply(lambda x:np.array(x)[-1])\n",
    "y_t=model1.predict(X_t)\n",
    "result=pd.Series(y_t,index=last_id.values)\n",
    "result.to_frame(name='city_center')\n",
    "result.to_csv('result11_2.csv')"
   ]
  },
  {
   "cell_type": "code",
   "execution_count": 15,
   "metadata": {},
   "outputs": [
    {
     "data": {
      "text/plain": [
       "((134063, 12), (33515, 12), (167578, 12))"
      ]
     },
     "execution_count": 15,
     "metadata": {},
     "output_type": "execute_result"
    }
   ],
   "source": [
    "X.shape,X_t.shape,X_a.shape"
   ]
  },
  {
   "cell_type": "code",
   "execution_count": 166,
   "metadata": {},
   "outputs": [
    {
     "name": "stdout",
     "output_type": "stream",
     "text": [
      "精度为0.802982107356\n"
     ]
    }
   ],
   "source": [
    "#SVM\n",
    "from sklearn.svm import SVC\n",
    "from sklearn.preprocessing import StandardScaler\n",
    "from sklearn.model_selection import train_test_split\n",
    "X_a=X.append(X_t)\n",
    "X_a=X_a.fillna(0)\n",
    "scaler = StandardScaler()\n",
    "X_std = scaler.fit_transform(X_a)\n",
    "X_train=X_std[:X.shape[0]]\n",
    "X_test=X_std[X.shape[0]:]\n",
    "x_train, x_test, y_train, y_test=train_test_split(X_train,y,test_size=0.3,random_state=444)\n",
    "svc = SVC(kernel='rbf',C=1,gamma='auto',degree=4,class_weight='balanced')\n",
    "clf = svc.fit(x_train, y_train)\n",
    "score = svc.score(x_test, y_test)\n",
    "print('精度为%s' % score)"
   ]
  },
  {
   "cell_type": "code",
   "execution_count": 23,
   "metadata": {},
   "outputs": [
    {
     "data": {
      "text/plain": [
       "(33515,)"
      ]
     },
     "execution_count": 23,
     "metadata": {},
     "output_type": "execute_result"
    }
   ],
   "source": [
    "y_pred=svc.predict(X_test)\n",
    "y_pred.shape"
   ]
  },
  {
   "cell_type": "code",
   "execution_count": 25,
   "metadata": {
    "collapsed": true
   },
   "outputs": [],
   "source": [
    "gb=data_test.groupby(['hash'])\n",
    "last_id=gb['trajectory_id'].apply(lambda x:np.array(x)[-1])\n",
    "result=pd.Series(y_pred,index=last_id.values)\n",
    "result.to_frame(name='city_center')\n",
    "result.to_csv('result7.csv')"
   ]
  }
 ],
 "metadata": {
  "kernelspec": {
   "display_name": "Python 3",
   "language": "python",
   "name": "python3"
  },
  "language_info": {
   "codemirror_mode": {
    "name": "ipython",
    "version": 3
   },
   "file_extension": ".py",
   "mimetype": "text/x-python",
   "name": "python",
   "nbconvert_exporter": "python",
   "pygments_lexer": "ipython3",
   "version": "3.6.7"
  }
 },
 "nbformat": 4,
 "nbformat_minor": 2
}
