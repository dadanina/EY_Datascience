{
 "cells": [
  {
   "cell_type": "markdown",
   "metadata": {},
   "source": [
    "### Here is the code of last submission,related explanations refer to the document."
   ]
  },
  {
   "cell_type": "code",
   "execution_count": 38,
   "metadata": {
    "collapsed": true
   },
   "outputs": [],
   "source": [
    "#import packages\n",
    "import numpy as np\n",
    "import pandas as pd\n",
    "import matplotlib.pyplot as plt\n",
    "from sklearn.model_selection import train_test_split,GridSearchCV\n",
    "import xgboost as xgb\n",
    "from sklearn import metrics"
   ]
  },
  {
   "cell_type": "code",
   "execution_count": 39,
   "metadata": {},
   "outputs": [
    {
     "data": {
      "text/plain": [
       "((814262, 11), (202937, 11))"
      ]
     },
     "execution_count": 39,
     "metadata": {},
     "output_type": "execute_result"
    }
   ],
   "source": [
    "#read data\n",
    "data_train=pd.read_csv('data_train\\data_train.csv')\n",
    "data_test=pd.read_csv('data_test\\data_test.csv')\n",
    "data_train.drop(['Unnamed: 0'],axis=1,inplace=True)\n",
    "data_test.drop(['Unnamed: 0'],axis=1,inplace=True)\n",
    "data_train.shape,data_test.shape"
   ]
  },
  {
   "cell_type": "code",
   "execution_count": 40,
   "metadata": {
    "collapsed": true
   },
   "outputs": [],
   "source": [
    "#regard (x_lower,y_lower) as coordinate origin(0,0) pan all points\n",
    "x_upper = 3770901.5068\n",
    "x_lower = 3750901.5068\n",
    "y_upper = -19208905.6133 \n",
    "y_lower = -19268905.6133     #four boundary points\n",
    "d_x=x_upper-x_lower\n",
    "d_y=y_upper-y_lower          #boundary distance\n",
    "def transform_data(data):\n",
    "    df=data.copy()\n",
    "    df['x_entry']=x_lower-df['x_entry']\n",
    "    df['y_entry']=y_lower-df['y_entry']\n",
    "    df['x_exit']=x_lower-df['x_exit']\n",
    "    df['y_exit']=y_lower-df['y_exit']\n",
    "    df['time_entry']=pd.to_datetime(df['time_entry'])\n",
    "    df['time_exit']=pd.to_datetime(df['time_exit'])\n",
    "    return df\n",
    "data_train=transform_data(data_train)\n",
    "data_test =transform_data(data_test)"
   ]
  },
  {
   "cell_type": "code",
   "execution_count": 41,
   "metadata": {
    "collapsed": true
   },
   "outputs": [],
   "source": [
    "#define some helper functions\n",
    "def is_center(x,d):\n",
    "    if x<=0 and d+x>=0:\n",
    "        return 1\n",
    "    else:\n",
    "        return 0\n",
    "def time_diff(x):\n",
    "    t_x=np.array(x)\n",
    "    return (t_x[-1]-t_x[0])/np.timedelta64(1, 'm')  \n",
    "def dist_diff(x):\n",
    "    d_x=np.array(x)\n",
    "    return (d_x[-1]-d_x[0])\n",
    "def bigger_zero(x):\n",
    "    if x>0:\n",
    "        return 1\n",
    "    else:\n",
    "        return 0"
   ]
  },
  {
   "cell_type": "code",
   "execution_count": 42,
   "metadata": {},
   "outputs": [
    {
     "data": {
      "text/plain": [
       "((391381, 12), (422881, 12), (98349, 12), (104588, 12))"
      ]
     },
     "execution_count": 42,
     "metadata": {},
     "output_type": "execute_result"
    }
   ],
   "source": [
    "#Separate the dataset according to whether the time interval of the last record is 0(stationary)\n",
    "def is_zero_dur(data):\n",
    "    hash_group=data.groupby(['hash'])\n",
    "    endtimedelta=(hash_group['time_exit'].apply(lambda x:np.array(x)[-1])-\n",
    "                  hash_group['time_entry'].apply(lambda x:np.array(x)[-1]))/np.timedelta64(1, 'm') #last time duration\n",
    "    p_time_duration=endtimedelta.to_frame(name='p_time_dur')\n",
    "    data=pd.merge(data,p_time_duration,left_on='hash',right_index=True,how='inner')\n",
    "    data_z=data[data.p_time_dur==0]\n",
    "    data_nz=data[data.p_time_dur!=0]\n",
    "    return data_z,data_nz\n",
    "data_train_z,data_train_nz=is_zero_dur(data_train)\n",
    "data_test_z,data_test_nz=is_zero_dur(data_test)\n",
    "data_train_z.shape,data_train_nz.shape,data_test_z.shape,data_test_nz.shape"
   ]
  },
  {
   "cell_type": "raw",
   "metadata": {},
   "source": [
    "Prediction for stationary"
   ]
  },
  {
   "cell_type": "code",
   "execution_count": 43,
   "metadata": {
    "collapsed": true
   },
   "outputs": [],
   "source": [
    "def zero_dur_prediction(data):\n",
    "    df=data.copy()\n",
    "    hash_group=df.groupby(['hash'])\n",
    "    endstart_x=hash_group['x_entry'].apply(lambda x:np.array(x)[-1]) #start location x\n",
    "    endstart_y=hash_group['y_entry'].apply(lambda x:np.array(x)[-1]) #start location y\n",
    "    end_x=endstart_x.to_frame(name='end_x')\n",
    "    end_y=endstart_y.to_frame(name='end_y')\n",
    "    df=pd.merge(df,end_x,left_on='hash',right_index=True,how='inner')\n",
    "    df=pd.merge(df,end_y,left_on='hash',right_index=True,how='inner')\n",
    "    df.loc[:,'is_in_center_x']=df.loc[:,'end_x'].apply(lambda x:is_center(x,d_x))\n",
    "    df.loc[:,'is_in_center_y']=df.loc[:,'end_y'].apply(lambda y:is_center(y,d_y))\n",
    "    df['label']= np.array(df['is_in_center_x']) & np.array(df['is_in_center_y'])\n",
    "    return df"
   ]
  },
  {
   "cell_type": "code",
   "execution_count": 44,
   "metadata": {
    "collapsed": true
   },
   "outputs": [],
   "source": [
    "dftrain_z=zero_dur_prediction(data_train_z)\n",
    "dftest_z=zero_dur_prediction(data_test_z)"
   ]
  },
  {
   "cell_type": "code",
   "execution_count": 45,
   "metadata": {},
   "outputs": [
    {
     "data": {
      "text/plain": [
       "traj_000506a39775e5bca661ac80e3f466eb_29_5     1\n",
       "traj_0006535be25bb52dd06983447880c964_5_12     0\n",
       "traj_0006f84bb33ec929d1cda7686f861d0a_31_3     1\n",
       "traj_00093ae562586aed0e053b8431e8ace4_23_10    0\n",
       "traj_000c739e444a70e1804d757a0580caaa_31_3     1\n",
       "traj_000d6fba12a7d06defe90e3c9162c11e_29_11    1\n",
       "traj_002447d99e8f6c3bc6c1329140979a91_25_7     0\n",
       "traj_002531dea45cd4059e92099630ebf775_3_10     0\n",
       "traj_0026d48a63f219dc359f1131805909bf_31_5     0\n",
       "traj_002f7d1d09d2af27ee5a6d0fa4e91c96_29_8     1\n",
       "traj_0032262ce8e9e5e3750f306a2ace8d4a_25_4     1\n",
       "traj_0033b16d18ce91c89eafacb1cb3a5a44_11_4     0\n",
       "traj_00390d9128b5d9c7ba1b32c8babb6c24_11_2     0\n",
       "traj_003d9b2742ddcd1a37717c524135b3d4_3_2      0\n",
       "traj_003ee2f1ea8002e540b9d4e089fce3f4_9_12     1\n",
       "traj_0041098d83629d777e85d77974549fe0_11_11    0\n",
       "traj_004227838e54f53e05b759abd5e44315_15_20    0\n",
       "traj_004819c7befda3482cff11aba12dcee5_29_3     0\n",
       "traj_004dff8e9bfa70ac0b87fb7350616ced_15_3     0\n",
       "traj_0054f50e5b65759e196eeff941043cdf_11_6     1\n",
       "traj_0058921b1ac097de47597b0dbdab5048_11_2     0\n",
       "traj_005a898dabd5a11c7afd670c3542c1ee_5_4      0\n",
       "traj_006213cfcc205e8ad799d2d47406ea75_11_5     0\n",
       "traj_00664a9f07c4c9d9b49a5918ed12f356_25_5     0\n",
       "traj_0069948b1ae4e71fc88a4ac90b0ef7af_11_8     0\n",
       "traj_006c4d914a35d78bbf46f0a4984b8152_1_8      0\n",
       "traj_006f8d6c0ff1dbf4cbdf8e3fa247ebb8_11_9     0\n",
       "traj_006fccc923995b230c69ec490fec3df5_19_2     0\n",
       "traj_0076f19f932b7ced955e0600727ef2a7_15_7     0\n",
       "traj_007945a1ddfb826075779c7551ffee2e_15_16    0\n",
       "                                              ..\n",
       "traj_ff861c66765ad14de4757247979c2734_11_7     0\n",
       "traj_ff8ef24c37c453ec02ae68df21e92f4d_1_5      1\n",
       "traj_ff902b3a7c97652d40672af01160370d_19_24    0\n",
       "traj_ff96843b6b495fac31a0bc190c174d8e_25_6     1\n",
       "traj_ff9be3d3a3e23b8b4a3d342e06893af1_9_1      0\n",
       "traj_ffa085f4fd6abf95115cfd417ae7f956_25_13    0\n",
       "traj_ffa4bdedb8ee852da0c5f945d1b32fe8_15_17    1\n",
       "traj_ffa74212602621fe7ccf4b6d9651e73b_23_2     0\n",
       "traj_ffa8beb56505d28d1dfd0f5e00a5d24d_11_9     0\n",
       "traj_ffac2b0a22b66c3f1893f1655b63cbd6_19_3     0\n",
       "traj_ffacec77c84c8db271e2982318ce52b8_31_2     0\n",
       "traj_ffacf69d613b5c50c11621c2f5e7727b_3_1      0\n",
       "traj_ffaef871bbc43c27f4757e639cb90e1c_9_6      0\n",
       "traj_ffb1a2597a74301dff44057416e70b4f_5_5      0\n",
       "traj_ffb1d652b86e8d6537f6b7079c3e3cb6_15_4     1\n",
       "traj_ffb5f2a2b26610380802fdcd9bad632c_1_3      1\n",
       "traj_ffb9db79c6b96d152334efa2c1d06fab_3_7      0\n",
       "traj_ffbc7807308dedf49523080af5d79eed_29_15    1\n",
       "traj_ffbf4376c763fac389a8846072d07799_23_2     0\n",
       "traj_ffc4a4d656ea7e6bce1775aa23d48d48_31_7     0\n",
       "traj_ffc880cc98b30c6905a1bac96153de0c_23_7     0\n",
       "traj_ffcb11743cc9dc1129fdfb207ca5375b_15_3     0\n",
       "traj_ffd18e6378c5384cfb135c569e0ef8f2_9_4      1\n",
       "traj_ffd395ec3142de6fa43c6c4c8196191c_11_8     0\n",
       "traj_ffd6099333016778d39013a2e5f4c0e3_29_11    1\n",
       "traj_ffe12e09e01554bc5bcc2661290c11d9_3_3      1\n",
       "traj_ffe474fc44b2a5c0b5f733c51d27ab35_31_2     0\n",
       "traj_ffe98f6e0adf12f9c7b51c4e9607a87a_15_13    0\n",
       "traj_fff813b56230c2f026f783f5b9f9ca90_19_0     0\n",
       "traj_fff9552047b095e8242b4913f3289a26_25_7     0\n",
       "Length: 16841, dtype: int64"
      ]
     },
     "execution_count": 45,
     "metadata": {},
     "output_type": "execute_result"
    }
   ],
   "source": [
    "dframe_test_z=dftest_z.drop(['trajectory_id','time_entry',\n",
    "                  'time_exit','vmax','vmin','vmean','x_entry','y_entry',\n",
    "                  'x_exit','y_exit'],axis=1)\n",
    "dframe_test_z=dframe_test_z.drop_duplicates()\n",
    "y_pred_z=dframe_test_z['label']\n",
    "gb_z=dftest_z.groupby(['hash'])\n",
    "last_id_z=gb_z['trajectory_id'].apply(lambda x:np.array(x)[-1])\n",
    "result_z=pd.Series(y_pred_z.values,index=last_id_z.values)\n",
    "result_z.to_frame(name='center_city')\n",
    "result_z"
   ]
  },
  {
   "cell_type": "raw",
   "metadata": {},
   "source": [
    "Prediction for non-stationary\n",
    "Divide into a single record and multiple records"
   ]
  },
  {
   "cell_type": "code",
   "execution_count": 46,
   "metadata": {
    "collapsed": true
   },
   "outputs": [],
   "source": [
    "def id_count(data):\n",
    "    df=data.copy()\n",
    "    hgroup=data.groupby(['hash'])\n",
    "    id_count=hgroup['trajectory_id'].count()\n",
    "    id_count=id_count.to_frame(name='id_count')\n",
    "    data=pd.merge(data,id_count,left_on='hash',right_index=True,how='inner')\n",
    "    data_id1=data[data['id_count']==1]\n",
    "    data_id=data[data['id_count']>1]\n",
    "    return data_id1,data_id"
   ]
  },
  {
   "cell_type": "code",
   "execution_count": 47,
   "metadata": {},
   "outputs": [
    {
     "data": {
      "text/plain": [
       "((813, 13), (422068, 13), (184, 13), (104404, 13))"
      ]
     },
     "execution_count": 47,
     "metadata": {},
     "output_type": "execute_result"
    }
   ],
   "source": [
    "data_train_nz_id1,data_train_nz_id=id_count(data_train_nz)\n",
    "data_test_nz_id1,data_test_nz_id=id_count(data_test_nz)\n",
    "data_train_nz_id1.shape,data_train_nz_id.shape,data_test_nz_id1.shape,data_test_nz_id.shape"
   ]
  },
  {
   "cell_type": "raw",
   "metadata": {},
   "source": [
    "Prediction for a single record"
   ]
  },
  {
   "cell_type": "code",
   "execution_count": 48,
   "metadata": {},
   "outputs": [
    {
     "data": {
      "text/plain": [
       "((813, 13), (184, 13))"
      ]
     },
     "execution_count": 48,
     "metadata": {},
     "output_type": "execute_result"
    }
   ],
   "source": [
    "def featExtraction(data):\n",
    "    df=data.copy()\n",
    "    df.loc[:,'is_in_center_x']=df.loc[:,'x_entry'].apply(lambda x:is_center(x,d_x))\n",
    "    df.loc[:,'is_in_center_y']=df.loc[:,'y_entry'].apply(lambda y:is_center(y,d_y))\n",
    "    df.loc[:,'start_hour']=df.loc[:,'time_entry'].dt.hour\n",
    "    df.loc[:,'end_dx_upper']=df.loc[:,'x_entry']-d_x\n",
    "    df.loc[:,'end_dy_upper']=df.loc[:,'y_entry']-d_y\n",
    "    df=df[['p_time_dur','x_entry','y_entry','vmin','vmean','vmax',\n",
    "           'is_in_center_x','is_in_center_y','start_hour','end_dx_upper','end_dy_upper','x_exit','y_exit']]\n",
    "    return df\n",
    "df_train_id1=featExtraction(data_train_nz_id1)\n",
    "df_test_id1=featExtraction(data_test_nz_id1)\n",
    "df_train_id1.shape,df_test_id1.shape"
   ]
  },
  {
   "cell_type": "code",
   "execution_count": 51,
   "metadata": {},
   "outputs": [],
   "source": [
    "df_train_id1['label_x']=df_train_id1.loc[:,'x_exit'].apply(lambda x:is_center(x,d_x))\n",
    "df_train_id1['label_y']=df_train_id1.loc[:,'y_exit'].apply(lambda y:is_center(y,d_y))\n",
    "df_train_id1['label']= np.array(df_train_id1['label_x']) & np.array(df_train_id1['label_y'])\n",
    "X_id=df_train_id1[['p_time_dur','x_entry','y_entry','vmean','is_in_center_x','is_in_center_y','start_hour','end_dx_upper','end_dy_upper']]\n",
    "y_id=df_train_id1['label']\n",
    "X_id_t=df_test_id1[['p_time_dur','x_entry','y_entry','vmean','is_in_center_x','is_in_center_y','start_hour','end_dx_upper','end_dy_upper']]"
   ]
  },
  {
   "cell_type": "code",
   "execution_count": 52,
   "metadata": {
    "collapsed": true
   },
   "outputs": [
    {
     "name": "stdout",
     "output_type": "stream",
     "text": [
      "[0]\tvalidation_0-error:0.098039\n",
      "[1]\tvalidation_0-error:0.098039\n",
      "[2]\tvalidation_0-error:0.098039\n",
      "[3]\tvalidation_0-error:0.098039\n",
      "[4]\tvalidation_0-error:0.098039\n",
      "[5]\tvalidation_0-error:0.098039\n",
      "[6]\tvalidation_0-error:0.098039\n",
      "[7]\tvalidation_0-error:0.112745\n",
      "[8]\tvalidation_0-error:0.102941\n",
      "[9]\tvalidation_0-error:0.102941\n",
      "[10]\tvalidation_0-error:0.102941\n",
      "[11]\tvalidation_0-error:0.098039\n",
      "[12]\tvalidation_0-error:0.098039\n",
      "[13]\tvalidation_0-error:0.098039\n",
      "[14]\tvalidation_0-error:0.098039\n",
      "[15]\tvalidation_0-error:0.098039\n",
      "[16]\tvalidation_0-error:0.098039\n",
      "[17]\tvalidation_0-error:0.093137\n",
      "[18]\tvalidation_0-error:0.098039\n",
      "[19]\tvalidation_0-error:0.098039\n"
     ]
    },
    {
     "data": {
      "text/plain": [
       "XGBClassifier(base_score=0.5, booster='gbtree', colsample_bylevel=1,\n",
       "       colsample_bytree=1, early_stopping_rounds=5, gamma=0.1,\n",
       "       learning_rate=0.05, max_delta_step=0, max_depth=5,\n",
       "       min_child_weight=1, missing=None, n_estimators=20, n_jobs=1,\n",
       "       nthread=None, objective='binary:logistic', random_state=0,\n",
       "       reg_alpha=0, reg_lambda=1, scale_pos_weight=1, seed=None,\n",
       "       silent=True, subsample=1)"
      ]
     },
     "execution_count": 52,
     "metadata": {},
     "output_type": "execute_result"
    }
   ],
   "source": [
    "model_id=xgb.XGBClassifier(n_estimators=20,\n",
    "                         max_depth=5,\n",
    "                         learning_rate=0.05,\n",
    "                         gamma=0.1,\n",
    "                         early_stopping_rounds=5)\n",
    "model_id.fit(X_id_train,y_id_train,eval_metric='error',eval_set=[(X_id_test,y_id_test)],verbose=True)"
   ]
  },
  {
   "cell_type": "code",
   "execution_count": 53,
   "metadata": {},
   "outputs": [
    {
     "data": {
      "text/plain": [
       "(0.59999999999999998, 0.67039106145251393)"
      ]
     },
     "execution_count": 53,
     "metadata": {},
     "output_type": "execute_result"
    }
   ],
   "source": [
    "y_id_pred_te=model_id.predict(X_id_test)\n",
    "y_id_pred_tr=model_id.predict(X_id_train)\n",
    "accuracy_rate_test=metrics.f1_score(y_id_test,y_id_pred_te)\n",
    "accuracy_rate_train=metrics.f1_score(y_id_train,y_id_pred_tr)\n",
    "accuracy_rate_test,accuracy_rate_train"
   ]
  },
  {
   "cell_type": "code",
   "execution_count": 54,
   "metadata": {
    "collapsed": true
   },
   "outputs": [
    {
     "data": {
      "text/plain": [
       "traj_02968210bf5ec87bf8c9da2cb2058c75_29_0    0\n",
       "traj_03664dd70a14108154d13ed8d2218cd0_25_0    0\n",
       "traj_03e0f7b02955923917997a6e24b833f0_11_0    0\n",
       "traj_0444ef9633c78877d07d82effb424248_15_0    0\n",
       "traj_04fd1bb8290c9a33442edcb6efc18b79_3_0     0\n",
       "traj_054fc59c279e027f9d53f5ed9bbd125b_25_0    0\n",
       "traj_0780fbd2ed845ab556a63551f28b30c4_5_1     0\n",
       "traj_07f983016a4726dc3d31524016953504_29_0    0\n",
       "traj_0867ee19f1fb8ffc85bd10cda6cbe331_19_1    0\n",
       "traj_09c5210171d858eee8f1e23a906fdf7e_3_0     0\n",
       "traj_0c0e2832b69ba001ea1feabd51cb361f_1_0     0\n",
       "traj_0cc501e69d381687cba1ff4c57a92109_11_0    0\n",
       "traj_131fe492ff3c89a7294567de9810d745_15_0    0\n",
       "traj_13d5819df8c1024caffc5224c8464589_25_0    0\n",
       "traj_14ba47c2fd02768b55b95c8d115f4ba4_5_1     0\n",
       "traj_1621733c5c0d284d3562bf4d9d99223e_19_0    0\n",
       "traj_192aa916c69563bb9b07fae2271a2ba9_3_1     0\n",
       "traj_1932382e35d452d07552c2c041e86f0f_25_4    1\n",
       "traj_1964480b6c4e746589e885e7637735df_5_0     0\n",
       "traj_1be351fe4db5b48458120470ec30032c_25_0    0\n",
       "traj_243b89183dcc636c2dfbe9bfcaa5dea2_19_0    0\n",
       "traj_25483c9bd0361abb5fdc83663e655325_5_1     0\n",
       "traj_2782693690d72f5f26bd0257860ee8ce_31_5    0\n",
       "traj_296bb9c8d76e3a69fec04dde0fb464ac_29_1    0\n",
       "traj_29de7df38faec314f33558b729896958_9_0     0\n",
       "traj_326098c7ed5bdb70cc8a6135bc56e943_11_0    1\n",
       "traj_3498ebe766e5cd655ea0c82bb97f7082_5_0     0\n",
       "traj_3b1bde3f771d0a71b03d1b1fe02379e5_15_1    1\n",
       "traj_3b4248b63b88c53390f6ec002dccd885_31_1    0\n",
       "traj_3e16ad4b4a9f2ff005d0bd68938005c3_29_0    0\n",
       "                                             ..\n",
       "traj_dd0cbb14c237fd1919c591b787ee8e7e_9_0     0\n",
       "traj_e00da5256a3a086f67cccaea65400194_3_0     0\n",
       "traj_e0bd0a0cda612c10ed3cee1e87c2f29c_15_0    0\n",
       "traj_e14450d28838061f892363745db7835d_1_0     0\n",
       "traj_e18e71c1dcc9d30fbd348b25955b2206_9_0     0\n",
       "traj_e29cd19d6726a427d606186ec70eaee7_15_0    0\n",
       "traj_e2bb95cda0362834c6e5b3a81f344bbd_23_2    0\n",
       "traj_e3e7f9d73129d75bca8e1a79d701c4f0_15_0    0\n",
       "traj_e62e4f7d5df34d3781a212c16725389d_23_2    0\n",
       "traj_e690f82142d7dca5934ec9a69241cfd3_23_0    0\n",
       "traj_e8b54abe47d75596b8935203e8365f77_31_0    0\n",
       "traj_ea3339c358ac7e80ed852defe41a1ce4_5_0     0\n",
       "traj_eb43b783566376ab8ac870ed0d50cf64_23_0    1\n",
       "traj_ed999c0685e9e083fd1986d91bd23685_19_0    0\n",
       "traj_edd1129c8e788b3b080e0695c874733b_29_0    0\n",
       "traj_eea61aaed147db4bb6b15e257cd6bf72_9_0     0\n",
       "traj_eefac02d0393a90212562c6a155f33ef_31_0    0\n",
       "traj_ef29626469cd70094a8e00396b558d9b_5_0     0\n",
       "traj_ef38131a96ac7f11234b4d458e070ef4_29_0    0\n",
       "traj_ef772c8359f9a9683e1c7a867cf5d812_19_0    0\n",
       "traj_f05fecce4049ad4ec6a12138bde4c358_31_0    0\n",
       "traj_f0732a4c730c1610b8a9724b3218bdbc_5_0     0\n",
       "traj_f399ff20e5b4b700c5d30f1fd286df53_31_0    0\n",
       "traj_f6178e7a4488c149bdab5c6bbf0f6f0e_5_0     0\n",
       "traj_f6c8e016a006a7beefaef18bca7887ef_31_1    0\n",
       "traj_f80f23dc8c78b8373407e07f948d2cf9_19_0    0\n",
       "traj_f8c7b95d3fabcc856caad78595085be3_29_1    0\n",
       "traj_fab7ad6faafeb41751c968857e20f577_31_0    1\n",
       "traj_fe852253ee80e3f10baf930e74461472_5_0     0\n",
       "traj_ff656cb729b436437c856432b6489199_19_0    0\n",
       "Length: 184, dtype: int64"
      ]
     },
     "execution_count": 54,
     "metadata": {},
     "output_type": "execute_result"
    }
   ],
   "source": [
    "tar_id=data_test_nz_id1['trajectory_id']\n",
    "y_id_t=model_id.predict(X_id_t)\n",
    "result_1=pd.Series(y_id_t,index=tar_id.values)\n",
    "result_1.to_frame(name='city_center')\n",
    "result_1"
   ]
  },
  {
   "cell_type": "raw",
   "metadata": {},
   "source": [
    "Prediction for multiple records"
   ]
  },
  {
   "cell_type": "code",
   "execution_count": 55,
   "metadata": {
    "collapsed": true
   },
   "outputs": [],
   "source": [
    "def feature_engineering(data):\n",
    "    df=data.copy()\n",
    "    hash_group=df.groupby(['hash'])\n",
    "    difftime=hash_group['time_entry'].apply(lambda x:time_diff(x)) #total time interval\n",
    "    dist_x=hash_group['x_entry'].apply(lambda x:dist_diff(x)) #distance of direction x\n",
    "    dist_y=hash_group['y_entry'].apply(lambda y:dist_diff(y)) #distance of direction y\n",
    "    \n",
    "    endstart_x=hash_group['x_entry'].apply(lambda x:np.array(x)[-1]) #last start location x\n",
    "    endstart_y=hash_group['y_entry'].apply(lambda x:np.array(x)[-1]) #last start location y\n",
    "    endtimedelta=(hash_group['time_exit'].apply(lambda x:np.array(x)[-1])-\n",
    "               hash_group['time_entry'].apply(lambda x:np.array(x)[-1]))/np.timedelta64(1, 'm') #last time interval\n",
    "    \n",
    "    start_time_hour=hash_group['time_entry'].apply(lambda x:np.array(x.dt.hour)[0])\n",
    "    \n",
    "    vmax=hash_group['vmax'].apply(lambda x:x.max())\n",
    "    vmin=hash_group['vmin'].apply(lambda x:x.min())\n",
    "    vmean=hash_group['vmean'].apply(lambda x:x.mean())\n",
    "    \n",
    "    \n",
    "    #first start location\n",
    "    first_start_x=hash_group['x_entry'].apply(lambda x:np.array(x)[0])\n",
    "    first_start_y=hash_group['y_entry'].apply(lambda x:np.array(x)[0])\n",
    "    first_exit_x=hash_group['x_exit'].apply(lambda x:np.array(x)[0])\n",
    "    first_exit_y=hash_group['y_exit'].apply(lambda x:np.array(x)[0])\n",
    "    first_time_diff= (hash_group['time_entry'].apply(lambda x:np.array(x)[0])-\n",
    "                     hash_group['time_exit'].apply(lambda x:np.array(x)[0]))/np.timedelta64(1, 'm')\n",
    "    \n",
    "    # distance between first start location and boundary\n",
    "    first_dist_upperx=d_x - first_start_x\n",
    "    first_dist_uppery=d_y - first_start_y\n",
    "    \n",
    "    # distance between last start location and boundary\n",
    "    endstart_dist_upperx=d_x - endstart_x\n",
    "    endstart_dist_uppery=d_y - endstart_y\n",
    "    \n",
    "    #Second last record\n",
    "    pre2_x=hash_group['x_exit'].apply(lambda x:np.array(x)[-2])\n",
    "    pre2_y=hash_group['y_exit'].apply(lambda x:np.array(x)[-2])\n",
    "    pre2_x_dist=hash_group['x_exit'].apply(lambda x:np.array(x)[-2])-hash_group['x_entry'].apply(lambda x:np.array(x)[-2])\n",
    "    pre2_y_dist=hash_group['y_exit'].apply(lambda x:np.array(x)[-2])-hash_group['y_entry'].apply(lambda x:np.array(x)[-2])\n",
    "    pre2_diff=(hash_group['time_exit'].apply(lambda x:np.array(x)[-2])-hash_group['time_entry'].apply(lambda x:np.array(x)[-2]))/np.timedelta64(1, 'm')\n",
    "    v2_x=pre2_x_dist/pre2_diff\n",
    "    v2_y=pre2_y_dist/pre2_diff\n",
    "        \n",
    "    feat=[difftime,dist_x,dist_y,endstart_x,\n",
    "          endstart_y,endtimedelta,start_time_hour,vmax,vmin,vmean,v2_x,v2_y,\n",
    "          first_start_x,first_start_y,first_exit_x,first_exit_y,first_time_diff,pre2_x,pre2_y,pre2_x_dist,pre2_y_dist,\n",
    "         first_dist_upperx,first_dist_uppery,endstart_dist_upperx,endstart_dist_uppery]\n",
    "    for i,x in enumerate(feat):\n",
    "        feats=x.to_frame(name='feature_'+str(i+1))\n",
    "        df=pd.merge(df,feats,left_on='hash',right_index=True,how='inner')\n",
    "    \n",
    "    df['vel_x']=df['feature_2']/df['feature_1']\n",
    "    df['vel_y']=df['feature_3']/df['feature_1']\n",
    "    \n",
    "    #  distance and speed of first interval\n",
    "    df.loc[:,'first_dist_x']=df.loc[:,'feature_15'] - df.loc[:,'feature_13']\n",
    "    df.loc[:,'first_dist_y']=df.loc[:,'feature_16'] - df.loc[:,'feature_14']\n",
    "    df.loc[:,'first_vx']=df.loc[:,'first_dist_x']/df.loc[:,'feature_17']\n",
    "    df.loc[:,'first_vy']=df.loc[:,'first_dist_y']/df.loc[:,'feature_17']\n",
    "    \n",
    "    #last interval speed\n",
    "    delta1t= (hash_group['time_entry'].apply(lambda x:np.array(x)[-1])-hash_group['time_exit'].apply(lambda x:np.array(x)[-2]))/np.timedelta64(1, 'm')\n",
    "    pre_distx=hash_group['x_entry'].apply(lambda x:np.array(x)[-1])-hash_group['x_exit'].apply(lambda x:np.array(x)[-2])\n",
    "    pre_disty=hash_group['y_entry'].apply(lambda x:np.array(x)[-1])-hash_group['y_exit'].apply(lambda x:np.array(x)[-2])\n",
    "    pre_vel_x=pre_distx/delta1t\n",
    "    pre_vel_y=pre_disty/delta1t\n",
    "    df2_feat1=pre_vel_x.to_frame(name='pre_v1_x')\n",
    "    df2_feat2=pre_vel_y.to_frame(name='pre_v1_y')\n",
    "    df=pd.merge(df,df2_feat1,left_on='hash',right_index=True,how='inner')\n",
    "    df=pd.merge(df,df2_feat2,left_on='hash',right_index=True,how='inner')\n",
    "    \n",
    "    #angle\n",
    "    tanh=pre_vel_y/pre_vel_x\n",
    "    theta=np.arctan(tanh)\n",
    "    df_feat3=theta.to_frame(name='theta')\n",
    "    df=pd.merge(df,df_feat3,left_on='hash',right_index=True,how='inner')\n",
    "    \n",
    "    #pre-interval is stationary or not\n",
    "    df.loc[:,'x_zero_prevel']=df.loc[:,'pre_v1_x'].apply(lambda x:bigger_zero(x))\n",
    "    df.loc[:,'y_zero_prevel']=df.loc[:,'pre_v1_y'].apply(lambda x:bigger_zero(x))\n",
    "    \n",
    "    #start position is in the center or not\n",
    "    df.loc[:,'start_in_center_x']=df.loc[:,'feature_13'].apply(lambda x:is_center(x,d_x))\n",
    "    df.loc[:,'start_in_center_y']=df.loc[:,'feature_14'].apply(lambda y:is_center(y,d_y))\n",
    "    \n",
    "    #exit position is in the center or not\n",
    "    df.loc[:,'is_in_center_x']=df.loc[:,'feature_4'].apply(lambda x:is_center(x,d_x))\n",
    "    df.loc[:,'is_in_center_y']=df.loc[:,'feature_5'].apply(lambda y:is_center(y,d_y))\n",
    "    return df"
   ]
  },
  {
   "cell_type": "code",
   "execution_count": 56,
   "metadata": {},
   "outputs": [
    {
     "data": {
      "text/plain": [
       "((422068, 53), (104404, 53))"
      ]
     },
     "execution_count": 56,
     "metadata": {},
     "output_type": "execute_result"
    }
   ],
   "source": [
    "df_train_id=feature_engineering(data_train_nz_id)\n",
    "df_test_id =feature_engineering(data_test_nz_id)\n",
    "df_train_id.shape,df_test_id.shape"
   ]
  },
  {
   "cell_type": "code",
   "execution_count": 57,
   "metadata": {},
   "outputs": [],
   "source": [
    "#train_dataset label\n",
    "hash_group=df_train_id.groupby(['hash'])\n",
    "endexit_x=hash_group['x_exit'].apply(lambda x:np.array(x)[-1])\n",
    "endexit_y=hash_group['y_exit'].apply(lambda x:np.array(x)[-1])\n",
    "exit_x=endexit_x.to_frame(name='label_x_d')\n",
    "exit_y=endexit_y.to_frame(name='label_y_d')\n",
    "df_train_id=pd.merge(df_train_id,exit_x,left_on='hash',right_index=True,how='inner')\n",
    "df_train_id=pd.merge(df_train_id,exit_y,left_on='hash',right_index=True,how='inner')\n",
    "df_train_id['label_x']=df_train_id.loc[:,'label_x_d'].apply(lambda x:is_center(x,d_x))\n",
    "df_train_id['label_y']=df_train_id.loc[:,'label_y_d'].apply(lambda y:is_center(y,d_y))\n",
    "df_train_id['label']= np.array(df_train_id['label_x']) & np.array(df_train_id['label_y'])"
   ]
  },
  {
   "cell_type": "code",
   "execution_count": 58,
   "metadata": {
    "collapsed": true
   },
   "outputs": [],
   "source": [
    "#generate a feature vector for each route\n",
    "def generate_dataset(data):\n",
    "    df=data.drop(['trajectory_id','time_entry',\n",
    "                  'time_exit','vmax','vmin','vmean','x_entry','y_entry','p_time_dur',\n",
    "                  'x_exit','y_exit'],axis=1)\n",
    "    df=df.drop_duplicates()\n",
    "    return df"
   ]
  },
  {
   "cell_type": "code",
   "execution_count": 59,
   "metadata": {},
   "outputs": [
    {
     "data": {
      "text/plain": [
       "((66252, 47), (16490, 42))"
      ]
     },
     "execution_count": 59,
     "metadata": {},
     "output_type": "execute_result"
    }
   ],
   "source": [
    "dframe_train_id=generate_dataset(df_train_id)\n",
    "dframe_test_id=generate_dataset(df_test_id)\n",
    "dframe_train_id.shape,dframe_test_id.shape"
   ]
  },
  {
   "cell_type": "code",
   "execution_count": 60,
   "metadata": {},
   "outputs": [
    {
     "data": {
      "text/html": [
       "<div>\n",
       "<style>\n",
       "    .dataframe thead tr:only-child th {\n",
       "        text-align: right;\n",
       "    }\n",
       "\n",
       "    .dataframe thead th {\n",
       "        text-align: left;\n",
       "    }\n",
       "\n",
       "    .dataframe tbody tr th {\n",
       "        vertical-align: top;\n",
       "    }\n",
       "</style>\n",
       "<table border=\"1\" class=\"dataframe\">\n",
       "  <thead>\n",
       "    <tr style=\"text-align: right;\">\n",
       "      <th></th>\n",
       "      <th>hash</th>\n",
       "      <th>id_count</th>\n",
       "      <th>feature_1</th>\n",
       "      <th>feature_2</th>\n",
       "      <th>feature_3</th>\n",
       "      <th>feature_4</th>\n",
       "      <th>feature_5</th>\n",
       "      <th>feature_6</th>\n",
       "      <th>feature_7</th>\n",
       "      <th>feature_8</th>\n",
       "      <th>...</th>\n",
       "      <th>y_zero_prevel</th>\n",
       "      <th>start_in_center_x</th>\n",
       "      <th>start_in_center_y</th>\n",
       "      <th>is_in_center_x</th>\n",
       "      <th>is_in_center_y</th>\n",
       "      <th>label_x_d</th>\n",
       "      <th>label_y_d</th>\n",
       "      <th>label_x</th>\n",
       "      <th>label_y</th>\n",
       "      <th>label</th>\n",
       "    </tr>\n",
       "  </thead>\n",
       "  <tbody>\n",
       "    <tr>\n",
       "      <th>0</th>\n",
       "      <td>0000a8602cf2def930488dee7cdad104_1</td>\n",
       "      <td>6</td>\n",
       "      <td>478.000000</td>\n",
       "      <td>6069.138638</td>\n",
       "      <td>187853.203408</td>\n",
       "      <td>5956.876032</td>\n",
       "      <td>12928.234105</td>\n",
       "      <td>16.033333</td>\n",
       "      <td>7</td>\n",
       "      <td>NaN</td>\n",
       "      <td>...</td>\n",
       "      <td>0</td>\n",
       "      <td>1</td>\n",
       "      <td>0</td>\n",
       "      <td>0</td>\n",
       "      <td>0</td>\n",
       "      <td>6116.062904</td>\n",
       "      <td>12572.734471</td>\n",
       "      <td>0</td>\n",
       "      <td>0</td>\n",
       "      <td>0</td>\n",
       "    </tr>\n",
       "    <tr>\n",
       "      <th>6</th>\n",
       "      <td>0000cf177130469eeac79f67b6bcf3df_9</td>\n",
       "      <td>4</td>\n",
       "      <td>31.150000</td>\n",
       "      <td>361.788345</td>\n",
       "      <td>995.188644</td>\n",
       "      <td>1813.564585</td>\n",
       "      <td>-2855.283569</td>\n",
       "      <td>29.266667</td>\n",
       "      <td>14</td>\n",
       "      <td>1.149404</td>\n",
       "      <td>...</td>\n",
       "      <td>0</td>\n",
       "      <td>0</td>\n",
       "      <td>1</td>\n",
       "      <td>0</td>\n",
       "      <td>1</td>\n",
       "      <td>1291.476173</td>\n",
       "      <td>-2969.680929</td>\n",
       "      <td>0</td>\n",
       "      <td>1</td>\n",
       "      <td>0</td>\n",
       "    </tr>\n",
       "    <tr>\n",
       "      <th>10</th>\n",
       "      <td>0001f97b99a80f18f62e2d44e54ef33d_3</td>\n",
       "      <td>2</td>\n",
       "      <td>177.483333</td>\n",
       "      <td>12722.704603</td>\n",
       "      <td>271805.888240</td>\n",
       "      <td>-7836.722072</td>\n",
       "      <td>107034.585072</td>\n",
       "      <td>45.266667</td>\n",
       "      <td>11</td>\n",
       "      <td>32.196255</td>\n",
       "      <td>...</td>\n",
       "      <td>1</td>\n",
       "      <td>0</td>\n",
       "      <td>0</td>\n",
       "      <td>1</td>\n",
       "      <td>0</td>\n",
       "      <td>-18784.993991</td>\n",
       "      <td>-126329.542090</td>\n",
       "      <td>1</td>\n",
       "      <td>0</td>\n",
       "      <td>0</td>\n",
       "    </tr>\n",
       "    <tr>\n",
       "      <th>29</th>\n",
       "      <td>0002974025ed311b78ad49904a31d4ea_25</td>\n",
       "      <td>3</td>\n",
       "      <td>66.066667</td>\n",
       "      <td>-1047.516408</td>\n",
       "      <td>-10551.981134</td>\n",
       "      <td>5178.752792</td>\n",
       "      <td>36411.900737</td>\n",
       "      <td>7.016667</td>\n",
       "      <td>13</td>\n",
       "      <td>NaN</td>\n",
       "      <td>...</td>\n",
       "      <td>1</td>\n",
       "      <td>0</td>\n",
       "      <td>0</td>\n",
       "      <td>0</td>\n",
       "      <td>0</td>\n",
       "      <td>4421.780254</td>\n",
       "      <td>86886.507634</td>\n",
       "      <td>0</td>\n",
       "      <td>0</td>\n",
       "      <td>0</td>\n",
       "    </tr>\n",
       "    <tr>\n",
       "      <th>42</th>\n",
       "      <td>00037fa9d812de1961f1e2603ad4b22b_25</td>\n",
       "      <td>4</td>\n",
       "      <td>152.700000</td>\n",
       "      <td>4417.157395</td>\n",
       "      <td>31119.254525</td>\n",
       "      <td>-18050.285352</td>\n",
       "      <td>-119615.536787</td>\n",
       "      <td>11.766667</td>\n",
       "      <td>12</td>\n",
       "      <td>NaN</td>\n",
       "      <td>...</td>\n",
       "      <td>0</td>\n",
       "      <td>0</td>\n",
       "      <td>0</td>\n",
       "      <td>1</td>\n",
       "      <td>0</td>\n",
       "      <td>-17511.499017</td>\n",
       "      <td>-112107.285920</td>\n",
       "      <td>1</td>\n",
       "      <td>0</td>\n",
       "      <td>0</td>\n",
       "    </tr>\n",
       "  </tbody>\n",
       "</table>\n",
       "<p>5 rows × 47 columns</p>\n",
       "</div>"
      ],
      "text/plain": [
       "                                   hash  id_count   feature_1     feature_2  \\\n",
       "0    0000a8602cf2def930488dee7cdad104_1         6  478.000000   6069.138638   \n",
       "6    0000cf177130469eeac79f67b6bcf3df_9         4   31.150000    361.788345   \n",
       "10   0001f97b99a80f18f62e2d44e54ef33d_3         2  177.483333  12722.704603   \n",
       "29  0002974025ed311b78ad49904a31d4ea_25         3   66.066667  -1047.516408   \n",
       "42  00037fa9d812de1961f1e2603ad4b22b_25         4  152.700000   4417.157395   \n",
       "\n",
       "        feature_3     feature_4      feature_5  feature_6  feature_7  \\\n",
       "0   187853.203408   5956.876032   12928.234105  16.033333          7   \n",
       "6      995.188644   1813.564585   -2855.283569  29.266667         14   \n",
       "10  271805.888240  -7836.722072  107034.585072  45.266667         11   \n",
       "29  -10551.981134   5178.752792   36411.900737   7.016667         13   \n",
       "42   31119.254525 -18050.285352 -119615.536787  11.766667         12   \n",
       "\n",
       "    feature_8  ...    y_zero_prevel  start_in_center_x  start_in_center_y  \\\n",
       "0         NaN  ...                0                  1                  0   \n",
       "6    1.149404  ...                0                  0                  1   \n",
       "10  32.196255  ...                1                  0                  0   \n",
       "29        NaN  ...                1                  0                  0   \n",
       "42        NaN  ...                0                  0                  0   \n",
       "\n",
       "    is_in_center_x  is_in_center_y     label_x_d      label_y_d  label_x  \\\n",
       "0                0               0   6116.062904   12572.734471        0   \n",
       "6                0               1   1291.476173   -2969.680929        0   \n",
       "10               1               0 -18784.993991 -126329.542090        1   \n",
       "29               0               0   4421.780254   86886.507634        0   \n",
       "42               1               0 -17511.499017 -112107.285920        1   \n",
       "\n",
       "    label_y  label  \n",
       "0         0      0  \n",
       "6         1      0  \n",
       "10        0      0  \n",
       "29        0      0  \n",
       "42        0      0  \n",
       "\n",
       "[5 rows x 47 columns]"
      ]
     },
     "execution_count": 60,
     "metadata": {},
     "output_type": "execute_result"
    }
   ],
   "source": [
    "dframe_train_id.head()"
   ]
  },
  {
   "cell_type": "code",
   "execution_count": 61,
   "metadata": {},
   "outputs": [
    {
     "data": {
      "text/plain": [
       "Index(['hash', 'trajectory_id', 'time_entry', 'time_exit', 'vmax', 'vmin',\n",
       "       'vmean', 'x_entry', 'y_entry', 'x_exit', 'y_exit', 'p_time_dur',\n",
       "       'id_count', 'feature_1', 'feature_2', 'feature_3', 'feature_4',\n",
       "       'feature_5', 'feature_6', 'feature_7', 'feature_8', 'feature_9',\n",
       "       'feature_10', 'feature_11', 'feature_12', 'feature_13', 'feature_14',\n",
       "       'feature_15', 'feature_16', 'feature_17', 'feature_18', 'feature_19',\n",
       "       'feature_20', 'feature_21', 'feature_22', 'feature_23', 'feature_24',\n",
       "       'feature_25', 'vel_x', 'vel_y', 'first_dist_x', 'first_dist_y',\n",
       "       'first_vx', 'first_vy', 'pre_v1_x', 'pre_v1_y', 'theta',\n",
       "       'x_zero_prevel', 'y_zero_prevel', 'start_in_center_x',\n",
       "       'start_in_center_y', 'is_in_center_x', 'is_in_center_y', 'label_x_d',\n",
       "       'label_y_d', 'label_x', 'label_y', 'label'],\n",
       "      dtype='object')"
      ]
     },
     "execution_count": 61,
     "metadata": {},
     "output_type": "execute_result"
    }
   ],
   "source": [
    "df_train_id.columns"
   ]
  },
  {
   "cell_type": "raw",
   "metadata": {},
   "source": [
    "Divide the prediction into x and y directions"
   ]
  },
  {
   "cell_type": "code",
   "execution_count": 62,
   "metadata": {},
   "outputs": [],
   "source": [
    "d_Xx=dframe_train_id[['id_count', 'feature_1', 'feature_2', 'feature_3','feature_4','feature_5','feature_6', \n",
    "        'feature_8', 'feature_9','feature_10','feature_11','feature_12',\n",
    "        'feature_13', 'feature_14', \n",
    "        'feature_15', 'feature_16', 'feature_17', \n",
    "        'feature_20', 'feature_21',\n",
    "        'theta','vel_x',  'pre_v1_x','vel_y','pre_v1_y',\n",
    "       'x_zero_prevel','y_zero_prevel',\n",
    "        'first_dist_x','first_dist_y'\n",
    "        ]]\n",
    "d_Xy=dframe_train_id[['id_count', 'feature_1', 'feature_2', 'feature_3','feature_4','feature_5','feature_6', \n",
    "        'feature_8', 'feature_9',\n",
    "        'feature_10','feature_11','feature_12',\n",
    "        'feature_13', 'feature_14', \n",
    "        'feature_15', 'feature_16', 'feature_17', \n",
    "        'feature_18', 'feature_19', \n",
    "        'feature_20', 'feature_21',\n",
    "        'feature_22', 'feature_24', \n",
    "        'feature_23','feature_25',\n",
    "        'theta','vel_x',  'pre_v1_x','vel_y','pre_v1_y',\n",
    "       'x_zero_prevel','y_zero_prevel',\n",
    "        'start_in_center_x', 'start_in_center_y',\n",
    "        'first_dist_x','first_dist_y'\n",
    "                     ]]\n",
    "d_yx=dframe_train_id['label_x']\n",
    "d_yy=dframe_train_id['label_y']\n",
    "d_Xxt=dframe_test_id[['id_count', 'feature_1', 'feature_2', 'feature_3','feature_4','feature_5','feature_6', \n",
    "        'feature_8', 'feature_9','feature_10','feature_11','feature_12',\n",
    "        'feature_13', 'feature_14', \n",
    "        'feature_15', 'feature_16', 'feature_17', \n",
    "        'feature_20', 'feature_21', \n",
    "        'theta','vel_x',  'pre_v1_x','vel_y','pre_v1_y',\n",
    "       'x_zero_prevel','y_zero_prevel',\n",
    "        'first_dist_x','first_dist_y'\n",
    "                     ]]\n",
    "d_Xyt=dframe_test_id[['id_count', 'feature_1', 'feature_2', 'feature_3','feature_4','feature_5','feature_6', \n",
    "        'feature_8', 'feature_9',\n",
    "        'feature_10','feature_11','feature_12',\n",
    "        'feature_13', 'feature_14', \n",
    "        'feature_15', 'feature_16', 'feature_17', \n",
    "        'feature_18', 'feature_19', \n",
    "        'feature_20', 'feature_21',\n",
    "        'feature_22', 'feature_24', \n",
    "        'feature_23','feature_25',\n",
    "        'theta','vel_x',  'pre_v1_x','vel_y','pre_v1_y',\n",
    "       'x_zero_prevel','y_zero_prevel',\n",
    "        'start_in_center_x', 'start_in_center_y',\n",
    "        'first_dist_x','first_dist_y'\n",
    "                     ]]"
   ]
  },
  {
   "cell_type": "code",
   "execution_count": 63,
   "metadata": {
    "collapsed": true
   },
   "outputs": [],
   "source": [
    "Xx_train,Xx_test,yx_train,yx_test=train_test_split(d_Xx,d_yx,test_size=0.25,stratify=d_yx,random_state=666)\n",
    "Xy_train,Xy_test,yy_train,yy_test=train_test_split(d_Xy,d_yy,test_size=0.25,stratify=d_yy,random_state=666)"
   ]
  },
  {
   "cell_type": "code",
   "execution_count": 64,
   "metadata": {
    "collapsed": true
   },
   "outputs": [
    {
     "name": "stdout",
     "output_type": "stream",
     "text": [
      "[0]\tvalidation_0-error:0.147558\n",
      "[1]\tvalidation_0-error:0.146652\n",
      "[2]\tvalidation_0-error:0.144962\n",
      "[3]\tvalidation_0-error:0.14309\n",
      "[4]\tvalidation_0-error:0.14303\n",
      "[5]\tvalidation_0-error:0.140675\n",
      "[6]\tvalidation_0-error:0.140977\n",
      "[7]\tvalidation_0-error:0.141218\n",
      "[8]\tvalidation_0-error:0.140977\n",
      "[9]\tvalidation_0-error:0.141218\n",
      "[10]\tvalidation_0-error:0.140977\n",
      "[11]\tvalidation_0-error:0.140735\n",
      "[12]\tvalidation_0-error:0.140916\n",
      "[13]\tvalidation_0-error:0.141037\n",
      "[14]\tvalidation_0-error:0.14146\n",
      "[15]\tvalidation_0-error:0.140735\n",
      "[16]\tvalidation_0-error:0.140494\n",
      "[17]\tvalidation_0-error:0.13983\n",
      "[18]\tvalidation_0-error:0.13983\n",
      "[19]\tvalidation_0-error:0.139588\n",
      "[20]\tvalidation_0-error:0.139166\n",
      "[21]\tvalidation_0-error:0.139286\n",
      "[22]\tvalidation_0-error:0.139286\n",
      "[23]\tvalidation_0-error:0.138924\n",
      "[24]\tvalidation_0-error:0.139649\n",
      "[25]\tvalidation_0-error:0.138562\n",
      "[26]\tvalidation_0-error:0.13832\n",
      "[27]\tvalidation_0-error:0.138381\n",
      "[28]\tvalidation_0-error:0.13832\n",
      "[29]\tvalidation_0-error:0.13826\n",
      "[30]\tvalidation_0-error:0.13826\n",
      "[31]\tvalidation_0-error:0.137958\n",
      "[32]\tvalidation_0-error:0.137113\n",
      "[33]\tvalidation_0-error:0.137113\n",
      "[34]\tvalidation_0-error:0.136871\n",
      "[35]\tvalidation_0-error:0.137113\n",
      "[36]\tvalidation_0-error:0.136932\n",
      "[37]\tvalidation_0-error:0.136932\n",
      "[38]\tvalidation_0-error:0.136026\n",
      "[39]\tvalidation_0-error:0.137052\n",
      "[40]\tvalidation_0-error:0.137173\n",
      "[41]\tvalidation_0-error:0.137052\n",
      "[42]\tvalidation_0-error:0.137113\n",
      "[43]\tvalidation_0-error:0.136992\n",
      "[44]\tvalidation_0-error:0.136449\n",
      "[45]\tvalidation_0-error:0.136449\n",
      "[46]\tvalidation_0-error:0.135966\n",
      "[47]\tvalidation_0-error:0.13663\n",
      "[48]\tvalidation_0-error:0.136751\n",
      "[49]\tvalidation_0-error:0.136932\n",
      "[50]\tvalidation_0-error:0.136509\n",
      "[51]\tvalidation_0-error:0.13669\n",
      "[52]\tvalidation_0-error:0.136207\n",
      "[53]\tvalidation_0-error:0.136147\n",
      "[54]\tvalidation_0-error:0.136026\n",
      "[55]\tvalidation_0-error:0.135422\n",
      "[56]\tvalidation_0-error:0.135603\n",
      "[57]\tvalidation_0-error:0.135241\n",
      "[58]\tvalidation_0-error:0.135785\n",
      "[59]\tvalidation_0-error:0.13512\n",
      "[60]\tvalidation_0-error:0.134879\n",
      "[61]\tvalidation_0-error:0.134456\n",
      "[62]\tvalidation_0-error:0.134336\n",
      "[63]\tvalidation_0-error:0.134879\n",
      "[64]\tvalidation_0-error:0.134758\n",
      "[65]\tvalidation_0-error:0.134939\n",
      "[66]\tvalidation_0-error:0.135\n",
      "[67]\tvalidation_0-error:0.134637\n",
      "[68]\tvalidation_0-error:0.134517\n",
      "[69]\tvalidation_0-error:0.133973\n"
     ]
    },
    {
     "data": {
      "text/plain": [
       "XGBClassifier(base_score=0.5, booster='gbtree', colsample_bylevel=1,\n",
       "       colsample_bytree=1, early_stopping_rounds=5, gamma=0,\n",
       "       learning_rate=0.08, max_delta_step=0, max_depth=8,\n",
       "       min_child_weight=1, missing=None, n_estimators=70, n_jobs=1,\n",
       "       nthread=None, objective='binary:logistic', random_state=0,\n",
       "       reg_alpha=0, reg_lambda=1, scale_pos_weight=1, seed=None,\n",
       "       silent=True, subsample=0.8)"
      ]
     },
     "execution_count": 64,
     "metadata": {},
     "output_type": "execute_result"
    }
   ],
   "source": [
    "model_x=xgb.XGBClassifier(n_estimators=70,\n",
    "                         max_depth=8,\n",
    "                         learning_rate=0.08,\n",
    "                         subsample=0.8,\n",
    "                         colsample_bytree=1,\n",
    "                         colsample_bylevel=1,\n",
    "                         early_stopping_rounds=5)\n",
    "model_x.fit(Xx_train,yx_train,eval_metric='error',eval_set=[(Xx_test,yx_test)],verbose=True)"
   ]
  },
  {
   "cell_type": "code",
   "execution_count": 65,
   "metadata": {
    "collapsed": true
   },
   "outputs": [
    {
     "name": "stdout",
     "output_type": "stream",
     "text": [
      "[0]\tvalidation_0-error:0.160237\n",
      "[1]\tvalidation_0-error:0.156735\n",
      "[2]\tvalidation_0-error:0.154259\n",
      "[3]\tvalidation_0-error:0.152569\n",
      "[4]\tvalidation_0-error:0.150878\n",
      "[5]\tvalidation_0-error:0.152146\n",
      "[6]\tvalidation_0-error:0.151603\n",
      "[7]\tvalidation_0-error:0.149973\n",
      "[8]\tvalidation_0-error:0.149369\n",
      "[9]\tvalidation_0-error:0.150939\n",
      "[10]\tvalidation_0-error:0.150275\n",
      "[11]\tvalidation_0-error:0.150516\n",
      "[12]\tvalidation_0-error:0.150577\n",
      "[13]\tvalidation_0-error:0.150395\n",
      "[14]\tvalidation_0-error:0.150878\n",
      "[15]\tvalidation_0-error:0.14949\n",
      "[16]\tvalidation_0-error:0.149309\n",
      "[17]\tvalidation_0-error:0.149309\n",
      "[18]\tvalidation_0-error:0.150154\n",
      "[19]\tvalidation_0-error:0.149852\n",
      "[20]\tvalidation_0-error:0.149611\n",
      "[21]\tvalidation_0-error:0.149731\n",
      "[22]\tvalidation_0-error:0.149309\n",
      "[23]\tvalidation_0-error:0.149248\n",
      "[24]\tvalidation_0-error:0.149007\n",
      "[25]\tvalidation_0-error:0.148765\n",
      "[26]\tvalidation_0-error:0.148463\n",
      "[27]\tvalidation_0-error:0.148946\n",
      "[28]\tvalidation_0-error:0.148946\n",
      "[29]\tvalidation_0-error:0.149128\n",
      "[30]\tvalidation_0-error:0.149188\n",
      "[31]\tvalidation_0-error:0.148886\n",
      "[32]\tvalidation_0-error:0.148101\n",
      "[33]\tvalidation_0-error:0.14798\n",
      "[34]\tvalidation_0-error:0.147377\n",
      "[35]\tvalidation_0-error:0.147075\n",
      "[36]\tvalidation_0-error:0.147437\n",
      "[37]\tvalidation_0-error:0.147196\n",
      "[38]\tvalidation_0-error:0.146471\n",
      "[39]\tvalidation_0-error:0.14629\n",
      "[40]\tvalidation_0-error:0.14629\n",
      "[41]\tvalidation_0-error:0.146471\n",
      "[42]\tvalidation_0-error:0.146652\n",
      "[43]\tvalidation_0-error:0.146713\n",
      "[44]\tvalidation_0-error:0.146954\n",
      "[45]\tvalidation_0-error:0.146471\n",
      "[46]\tvalidation_0-error:0.146471\n",
      "[47]\tvalidation_0-error:0.146773\n",
      "[48]\tvalidation_0-error:0.146592\n",
      "[49]\tvalidation_0-error:0.146471\n",
      "[50]\tvalidation_0-error:0.145988\n",
      "[51]\tvalidation_0-error:0.146169\n",
      "[52]\tvalidation_0-error:0.146411\n",
      "[53]\tvalidation_0-error:0.146169\n",
      "[54]\tvalidation_0-error:0.146048\n",
      "[55]\tvalidation_0-error:0.14623\n",
      "[56]\tvalidation_0-error:0.145867\n",
      "[57]\tvalidation_0-error:0.146048\n",
      "[58]\tvalidation_0-error:0.14629\n",
      "[59]\tvalidation_0-error:0.14623\n",
      "[60]\tvalidation_0-error:0.145867\n",
      "[61]\tvalidation_0-error:0.145445\n",
      "[62]\tvalidation_0-error:0.145807\n",
      "[63]\tvalidation_0-error:0.145988\n",
      "[64]\tvalidation_0-error:0.145988\n",
      "[65]\tvalidation_0-error:0.145324\n",
      "[66]\tvalidation_0-error:0.145988\n",
      "[67]\tvalidation_0-error:0.145807\n",
      "[68]\tvalidation_0-error:0.145807\n",
      "[69]\tvalidation_0-error:0.146048\n"
     ]
    },
    {
     "data": {
      "text/plain": [
       "XGBClassifier(base_score=0.5, booster='gbtree', colsample_bylevel=1,\n",
       "       colsample_bytree=1, early_stopping_rounds=5, gamma=0,\n",
       "       learning_rate=0.08, max_delta_step=0, max_depth=9,\n",
       "       min_child_weight=1, missing=None, n_estimators=70, n_jobs=1,\n",
       "       nthread=None, objective='binary:logistic', random_state=0,\n",
       "       reg_alpha=0, reg_lambda=1, scale_pos_weight=1, seed=None,\n",
       "       silent=True, subsample=0.8)"
      ]
     },
     "execution_count": 65,
     "metadata": {},
     "output_type": "execute_result"
    }
   ],
   "source": [
    "model_y=xgb.XGBClassifier(n_estimators=70,\n",
    "                         max_depth=9,\n",
    "                         learning_rate=0.08,\n",
    "                         subsample=0.8,\n",
    "                         colsample_bytree=1,\n",
    "                         colsample_bylevel=1,\n",
    "                         early_stopping_rounds=5)\n",
    "model_y.fit(Xy_train,yy_train,eval_metric='error',eval_set=[(Xy_test,yy_test)],verbose=True)"
   ]
  },
  {
   "cell_type": "code",
   "execution_count": 66,
   "metadata": {},
   "outputs": [
    {
     "data": {
      "text/plain": [
       "(0.89678589701846589, 0.75831751423718663)"
      ]
     },
     "execution_count": 66,
     "metadata": {},
     "output_type": "execute_result"
    }
   ],
   "source": [
    "pred_x=pd.Series(model_x.predict(Xx_test))\n",
    "pred_y=pd.Series(model_y.predict(Xy_test))\n",
    "acc_x=metrics.f1_score(yx_test,pred_x)\n",
    "acc_y=metrics.f1_score(yy_test,pred_y)\n",
    "acc_x,acc_y"
   ]
  },
  {
   "cell_type": "code",
   "execution_count": 67,
   "metadata": {},
   "outputs": [
    {
     "data": {
      "text/plain": [
       "0.68669260700389101"
      ]
     },
     "execution_count": 67,
     "metadata": {},
     "output_type": "execute_result"
    }
   ],
   "source": [
    "p_label= (np.array(pred_x)) & (np.array(pred_y))\n",
    "t_label= (np.array(yx_test)) & (np.array(yy_test))\n",
    "acc=metrics.f1_score(t_label,p_label)\n",
    "acc"
   ]
  },
  {
   "cell_type": "code",
   "execution_count": 68,
   "metadata": {
    "collapsed": true
   },
   "outputs": [
    {
     "data": {
      "text/plain": [
       "traj_00032f51796fd5437b238e3a9823d13d_31_5     0\n",
       "traj_000479418b5561ab694a2870cc04fd43_25_10    0\n",
       "traj_0005401ceddaf27a9b7f0d42ef1fbe95_1_4      0\n",
       "traj_00063a4f6c12e1e4de7d876580620667_3_4      0\n",
       "traj_000d479078af08618bddc7f09082b8c3_11_6     0\n",
       "traj_000efd6f95db39d6ba35027f02b5628f_9_20     1\n",
       "traj_000feace3a33be9245e2783cdff467a8_15_12    0\n",
       "traj_0011b48d0cf4f962833edd701afaf419_3_7      0\n",
       "traj_001484cf0f956c316070be4b4c6352ff_29_7     0\n",
       "traj_001d29060cfe35996cfeb141210ecbeb_9_2      1\n",
       "traj_001dff40eab7eea1c10d0fadcea0c779_9_7      0\n",
       "traj_001f9345a2979c553125c65499630f25_29_3     0\n",
       "traj_00265578639bd4d35a3524a1463d98bb_31_8     0\n",
       "traj_00351550555ffcb00b52d21bcaabfadf_31_11    0\n",
       "traj_003539963b1eebf6088d3d5302e45232_31_12    1\n",
       "traj_003a9e30d316e8fc524ac36f9deac690_1_5      1\n",
       "traj_003f763a38314d7b516a5561f7747198_25_2     0\n",
       "traj_0042bdd6496743d4b0069beefa230dd8_5_10     0\n",
       "traj_00437531cc06bdbd7c969bb3a07be14f_3_2      0\n",
       "traj_0046a336a7487550daf0cb3680e15af3_11_7     0\n",
       "traj_00531d7f45c3c6af584a2c53beebbd24_1_8      0\n",
       "traj_005a139796ea133abf547fbbbf83ce39_25_3     0\n",
       "traj_005a29d2771bae8ceb3ca7b0f53737c1_5_14     1\n",
       "traj_005d3acae69e48d6bb0320d464ff113a_19_3     0\n",
       "traj_005e00430f15768ba88c2da607195f1b_15_4     1\n",
       "traj_0062793dc348489946cb354553806507_3_12     0\n",
       "traj_006cdbc707729f674fbd0bda41bba088_11_3     0\n",
       "traj_00709929898ef4c1527f02c31a7265ca_1_6      1\n",
       "traj_00758077af11cbeb7a666c84a6f46fc1_3_5      0\n",
       "traj_0080ae216597c6a637fbded7c2aa1c82_25_4     0\n",
       "                                              ..\n",
       "traj_ff6b8356cfae70d3eb34d8570e4dba14_15_6     0\n",
       "traj_ff6f3fd47459ac68ea7928c13265f066_25_13    1\n",
       "traj_ff792c98ead1924711955061fb36dcb9_15_15    0\n",
       "traj_ff7cd138787af39f98c4697d4027b0de_15_8     0\n",
       "traj_ff7da6d7a0468abd04c748166a6dd644_23_5     0\n",
       "traj_ff8773b370702965145f413604f9eae1_29_8     0\n",
       "traj_ff8bfa7f97cb3ccf4909e7c5b71c758f_3_18     0\n",
       "traj_ff9183b0c3516368a3f770452a813a74_15_12    0\n",
       "traj_ff9e07f1f4b8130dcc47d6cfa0fc6adf_23_2     0\n",
       "traj_ffa3ceeae72dbd06fddebf6d0b0bf63e_31_7     1\n",
       "traj_ffa4c9b61ad01f4b47aeb25faaee97c2_31_7     0\n",
       "traj_ffa8dd0ff00ae86fd91fc9c3848404e4_3_8      0\n",
       "traj_ffa90ecc65a7c7cf3b4e5932e7b54d46_19_14    0\n",
       "traj_ffb297b4eb3c3fa08fa80a1d6d292a98_19_13    0\n",
       "traj_ffb46b67aa4abc5a9f77626723bd7e31_1_4      0\n",
       "traj_ffb6f598b7194db26036098ac007acc2_19_9     1\n",
       "traj_ffb710d354ecbe6163aa2ee5e0883447_9_9      0\n",
       "traj_ffb78d018356f592ae576c9628a45484_25_6     0\n",
       "traj_ffc4e987fb10a9a768a98c464540bcb3_23_2     0\n",
       "traj_ffca386c11dbd2007a3e58ccb6a782e0_15_5     0\n",
       "traj_ffcdb92dfa0b6771787205ff32a43d7d_1_8      0\n",
       "traj_ffce1404987f65b6807f600e9c786ac8_5_15     0\n",
       "traj_ffd3d9d488e22ac1558536d56cef0c1b_23_13    0\n",
       "traj_ffd9243bfaa2802879e77b08c3c99c81_9_8      0\n",
       "traj_ffd97ad509d7b0c17b40d93cfb8def44_31_3     0\n",
       "traj_ffe4cfa385932e1db09e85d8bd73609d_11_10    0\n",
       "traj_ffe54b47c077d8c5c27dd608ffac09d1_9_11     0\n",
       "traj_ffe7b16199fab37e6c1f4eae7d2e5d64_1_3      0\n",
       "traj_fff607ecd3f8d3dcb65791e8b4c22a5f_3_25     1\n",
       "traj_fff9400843a88c3bfe52e7ce8bf97316_19_17    0\n",
       "Length: 16490, dtype: int64"
      ]
     },
     "execution_count": 68,
     "metadata": {},
     "output_type": "execute_result"
    }
   ],
   "source": [
    "pred_x_t=pd.Series(model_x.predict(d_Xxt))\n",
    "pred_y_t=pd.Series(model_y.predict(d_Xyt))\n",
    "label_t= (np.array(pred_x_t)) & (np.array(pred_y_t))\n",
    "gb=data_test_nz_id.groupby(['hash'])\n",
    "last_id=gb['trajectory_id'].apply(lambda x:np.array(x)[-1])\n",
    "result_m=pd.Series(label_t,index=last_id.values)\n",
    "result_m.to_frame(name='city_center')\n",
    "result_m"
   ]
  },
  {
   "cell_type": "code",
   "execution_count": 90,
   "metadata": {
    "scrolled": false
   },
   "outputs": [],
   "source": [
    "result=pd.concat([result_z,result_1,result_m]).to_frame(name='target')\n",
    "gd=data_test.groupby(['hash'])\n",
    "lid=gd['trajectory_id'].apply(lambda x:np.array(x)[-1])\n",
    "res=pd.DataFrame(np.zeros(len(lid)),index=lid.values,columns=['target'])\n",
    "df=pd.merge(res,result,how='inner',left_index=True,right_index=True)\n",
    "df.drop(['target_x'],axis=1,inplace=True)\n",
    "df.reset_index()\n",
    "df.rename(columns={'index':'id','target_y':'target'})\n",
    "df.to_csv('final_result.csv')\n",
    "df"
   ]
  }
 ],
 "metadata": {
  "kernelspec": {
   "display_name": "Python 3",
   "language": "python",
   "name": "python3"
  },
  "language_info": {
   "codemirror_mode": {
    "name": "ipython",
    "version": 3
   },
   "file_extension": ".py",
   "mimetype": "text/x-python",
   "name": "python",
   "nbconvert_exporter": "python",
   "pygments_lexer": "ipython3",
   "version": "3.6.7"
  }
 },
 "nbformat": 4,
 "nbformat_minor": 2
}
